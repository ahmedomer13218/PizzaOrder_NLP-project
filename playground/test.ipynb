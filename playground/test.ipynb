{
 "cells": [
  {
   "cell_type": "code",
   "execution_count": 1,
   "metadata": {},
   "outputs": [],
   "source": [
    "import sys\n",
    "sys.path.append('../pizza/utils')"
   ]
  },
  {
   "cell_type": "code",
   "execution_count": 2,
   "metadata": {},
   "outputs": [],
   "source": [
    "from trees import TopSemanticTree, ExpressSemanticTree\n",
    "from semantic_matchers import is_unordered_exact_match, is_semantics_only_unordered_exact_match, \\\n",
    "                              is_semantics_only_unordered_exact_match_post_ER, is_unordered_exact_match_post_ER, is_semantics_only_unordered_exact_match_post_ER_top_top\n",
    "from entity_resolution import PizzaSkillEntityResolver"
   ]
  },
  {
   "cell_type": "code",
   "execution_count": 3,
   "metadata": {},
   "outputs": [],
   "source": [
    "top_pred_string_same = \"(ORDER (PIZZAORDER (NUMBER duck ) (SIZE medium ) (TOPPING tomatoes ) (TOPPING hammmmmm ) nnn ) )\"\n",
    "exr_string = \"(ORDER (PIZZAORDER (TOPPING cheese ) (SIZE mediu ) (TOPPING HAM ) (TOPPING TOMATOES ) nnn ) )\""
   ]
  },
  {
   "cell_type": "code",
   "execution_count": 4,
   "metadata": {},
   "outputs": [
    {
     "data": {
      "text/plain": [
       "np.float64(0.6666666666666667)"
      ]
     },
     "execution_count": 4,
     "metadata": {},
     "output_type": "execute_result"
    }
   ],
   "source": [
    "resolver = PizzaSkillEntityResolver()\n",
    "is_semantics_only_unordered_exact_match_post_ER_top_top(top_pred_string_same, exr_string, resolver)"
   ]
  },
  {
   "cell_type": "code",
   "execution_count": 9,
   "metadata": {},
   "outputs": [
    {
     "data": {
      "text/plain": [
       "np.float64(1.0)"
      ]
     },
     "execution_count": 9,
     "metadata": {},
     "output_type": "execute_result"
    }
   ],
   "source": [
    "is_semantics_only_unordered_exact_match_post_ER_top_top(\n",
    "    \"(ORDER i want (PIZZAORDER (NUMBER a ) pizza with (TOPPING pesto ) and (TOPPING mushrooms ) but no (NOT (TOPPING pineapple ) ) ) )\", \"(ORDER i want (PIZZAORDER (NUMBER a ) pizza with (TOPPING pesto ) and (TOPPING mushrooms ) but no (NOT (TOPPING pineapple ) ) ) )\",resolver)"
   ]
  },
  {
   "cell_type": "code",
   "execution_count": 6,
   "metadata": {},
   "outputs": [],
   "source": [
    "import numpy as np"
   ]
  },
  {
   "cell_type": "code",
   "execution_count": 7,
   "metadata": {},
   "outputs": [],
   "source": [
    "\n",
    "# tops=np.load('../data/output/tops.npy')\n",
    "tops_ctx=np.load('../data/output/tops_ctx.npy')\n",
    "tops_noise=np.load('../data/output/tops_noise.npy')\n",
    "\n",
    "real_tops=np.load('../data/output/topics_test.npy')\n"
   ]
  },
  {
   "cell_type": "code",
   "execution_count": 14,
   "metadata": {},
   "outputs": [
    {
     "data": {
      "text/plain": [
       "'(ORDER i (PIZZAORDER would like to have (NUMBER one ) pie along with (TOPPING ham ) and (TOPPING olives ) without (NOT (TOPPING pepperoni ) ) ) )'"
      ]
     },
     "execution_count": 14,
     "metadata": {},
     "output_type": "execute_result"
    }
   ],
   "source": [
    "str(tops[14])"
   ]
  },
  {
   "cell_type": "code",
   "execution_count": 29,
   "metadata": {},
   "outputs": [
    {
     "data": {
      "text/plain": [
       "'(ORDER i want (PIZZAORDER (NUMBER a ) pizza with (TOPPING pesto ) and (TOPPING mushrooms ) but no (NOT (TOPPING pineapple ) ) ) )'"
      ]
     },
     "execution_count": 29,
     "metadata": {},
     "output_type": "execute_result"
    }
   ],
   "source": [
    "str(real_tops[0])"
   ]
  },
  {
   "cell_type": "code",
   "execution_count": 28,
   "metadata": {},
   "outputs": [
    {
     "data": {
      "text/plain": [
       "'(ORDER i want (PIZZAORDER (NUMBER a ) pizza with (TOPPING pesto ) and (TOPPING mushrooms ) but no (NOT_TOPPING pineapple ) ) )'"
      ]
     },
     "execution_count": 28,
     "metadata": {},
     "output_type": "execute_result"
    }
   ],
   "source": [
    "str(tops[0])"
   ]
  },
  {
   "cell_type": "code",
   "execution_count": 52,
   "metadata": {},
   "outputs": [
    {
     "data": {
      "text/plain": [
       "np.str_('(ORDER i (PIZZAORDER would (NUMBER like ) to have (NUMBER one ) pie along (TOPPING with ) ham and (TOPPING olives ) without pepperoni ) )')"
      ]
     },
     "execution_count": 52,
     "metadata": {},
     "output_type": "execute_result"
    }
   ],
   "source": [
    "tops[14]"
   ]
  },
  {
   "cell_type": "code",
   "execution_count": 56,
   "metadata": {},
   "outputs": [
    {
     "data": {
      "text/plain": [
       "'(ORDER get me (PIZZAORDER an olive and pepperoni pizza with no pesto ) )'"
      ]
     },
     "execution_count": 56,
     "metadata": {},
     "output_type": "execute_result"
    }
   ],
   "source": [
    "str(tops[114])"
   ]
  },
  {
   "cell_type": "code",
   "execution_count": 10,
   "metadata": {},
   "outputs": [
    {
     "name": "stdout",
     "output_type": "stream",
     "text": [
      "An exception occurred when creating a tree object from the string \"(ORDER i would (PIZZAORDER like to try (NUMBER a ) (SIZE medium ) pizza with (TOPPING pesto ) and (TOPPING onions ) and no (NOT (TOPPING bacon ) (NOT (TOPPING please ) ) ) )\": make_if_possible returns None\n",
      "An exception occurred when creating a tree object from the string \"(ORDER i want (PIZZAORDER to try (NUMBER a ) (SIZE small ) (TOPPING pepperoni ) and (TOPPING ham ) pie with absolutely (NOT (QUANTITY no ) (NOT (TOPPING tuna ) please ) ) )\": make_if_possible returns None\n",
      "An exception occurred when creating a tree object from the string \"(ORDER can i have (PIZZAORDER (NUMBER one ) (SIZE large ) pie with (TOPPING mushrooms ) (TOPPING pineapple ) but please do not add (NOT (TOPPING any ) (NOT (TOPPING ham ) ) ) )\": make_if_possible returns None\n",
      "An exception occurred when creating a tree object from the string \"(ORDER i feel (PIZZAORDER like having (NUMBER a ) (SIZE medium ) pizza with (TOPPING onions ) and (TOPPING ham ) but im not in the mood (NOT (TOPPING for ) (NOT (TOPPING sausage ) ) ) )\": make_if_possible returns None\n",
      "An exception occurred when creating a tree object from the string \"(ORDER i want (PIZZAORDER (NUMBER a ) (SIZE large ) (STYLE combination ) pizza without (NOT (TOPPING onions ) or (NOT (TOPPING bell ) peppers and (NUMBER a ) (SIZE small ) (TOPPING pepperoni ) pizza with (QUANTITY extra ) (TOPPING cheese ) and (NUMBER four ) (SIZE large ) (DRINKTYPE diet pepsis ) ) ) )\": make_if_possible returns None\n",
      "An exception occurred when creating a tree object from the string \"(ORDER may i have (PIZZAORDER (NUMBER one ) (SIZE large ) pie along with (TOPPING ham ) and (TOPPING peppers ) but hold (NOT (STYLE thin ) (NOT (STYLE crust ) ) ) )\": make_if_possible returns None\n",
      "An exception occurred when creating a tree object from the string \"(ORDER i would (PIZZAORDER like to try (NUMBER one ) (SIZE large ) (TOPPING chicken ) and (TOPPING mushroom ) pizza with no (NOT (QUANTITY extra ) (NOT (TOPPING cheese ) please ) ) )\": make_if_possible returns None\n",
      "An exception occurred when creating a tree object from the string \"(ORDER i would like (PIZZAORDER to order (NUMBER a ) (SIZE small ) pizza with (TOPPING canadian ) (TOPPING bacon ) and (TOPPING onions ) (NUMBER a ) (SIZE medium ) pizza with (TOPPING ham ) and (TOPPING black ) olives and i dont want any (NOT (TOPPING drinks ) (NOT (TOPPING with ) this ) ) )\": make_if_possible returns None\n",
      "An exception occurred when creating a tree object from the string \"(ORDER i want (PIZZAORDER (NUMBER one ) (SIZE medium ) pizza with (QUANTITY extra ) (TOPPING cheese ) and (TOPPING pineapple ) and no (NOT (TOPPING any ) (NOT (TOPPING tuna ) ) ) )\": make_if_possible returns None\n",
      "An exception occurred when creating a tree object from the string \"(ORDER i want (PIZZAORDER to order (NUMBER two ) pizzas and i want (TOPPING mushrooms ) and (TOPPING pesto ) but i dont care (NOT (TOPPING for ) (NOT (TOPPING pepperoni ) ) ) )\": make_if_possible returns None\n",
      "An exception occurred when creating a tree object from the string \"(ORDER id like (PIZZAORDER to try (NUMBER a ) (SIZE medium ) pie for toppings i think ill take (TOPPING mushrooms ) and (TOPPING tuna ) hold the (NOT (TOPPING peppers ) if you dont mind thanks (NOT (TOPPING much ) ) ) )\": make_if_possible returns None\n",
      "An exception occurred when creating a tree object from the string \"(ORDER can i have (PIZZAORDER (NUMBER a ) pizza with (TOPPING pineapple ) and (TOPPING bacon ) but no (NOT (QUANTITY extra ) (NOT (TOPPING cheese ) ) ) )\": make_if_possible returns None\n",
      "An exception occurred when creating a tree object from the string \"(ORDER ill try (PIZZAORDER (NUMBER a ) pizza with (TOPPING sausage ) (TOPPING bacon ) but hold the (NOT (QUANTITY extra ) (NOT (TOPPING cheese ) ) ) )\": make_if_possible returns None\n",
      "An exception occurred when creating a tree object from the string \"(ORDER ill take (PIZZAORDER (NUMBER a ) (TOPPING mushroom ) and (TOPPING pepper ) pizza i dont want (NOT (TOPPING any ) (NOT (TOPPING onions ) and make it a (SIZE small ) please ) ) )\": make_if_possible returns None\n",
      "An exception occurred when creating a tree object from the string \"(ORDER i need (PIZZAORDER to order (NUMBER one ) (SIZE large ) (TOPPING pepperoni ) pizza (NUMBER one ) (SIZE large ) (TOPPING cheese ) pizza and (NUMBER one ) (SIZE large ) (TOPPING veggie ) pizza without (NOT (QUANTITY bell ) (NOT (TOPPING peppers ) ) ) )\": make_if_possible returns None\n",
      "An exception occurred when creating a tree object from the string \"(ORDER (PIZZAORDER okay let me think ill have (NUMBER one ) pizza with (TOPPING ham ) on it also i want (TOPPING olives ) but i dont care (NOT (TOPPING for ) (NOT (TOPPING pepperoni ) (NOT (TOPPING thats ) all ) ) )\": make_if_possible returns None\n",
      "An exception occurred when creating a tree object from the string \"(ORDER i want (PIZZAORDER (NUMBER one ) (SIZE large ) size pizza for toppings id like (TOPPING pineapple ) and please put extra (TOPPING cheese ) (TOPPING on ) there but i do not (NOT (TOPPING like ) (NOT (TOPPING bacon ) (NOT (TOPPING on ) (NOT (TOPPING my ) pizza thanks a ) ) )\": make_if_possible returns None\n",
      "An exception occurred when creating a tree object from the string \"(ORDER give me (PIZZAORDER (NUMBER a ) (SIZE large ) pizza with (TOPPING bacon ) and (TOPPING pepperoni ) but no (NOT (QUANTITY extra ) (NOT (TOPPING cheese ) ) ) )\": make_if_possible returns None\n",
      "An exception occurred when creating a tree object from the string \"(ORDER i think (PIZZAORDER ill have (NUMBER a ) (SIZE small ) pie with (TOPPING sausage ) and (TOPPING peppers ) but i do not (NOT (TOPPING want ) (NOT (TOPPING pineapple ) on it ) ) )\": make_if_possible returns None\n",
      "An exception occurred when creating a tree object from the string \"(ORDER ill try (PIZZAORDER (NUMBER a ) pizza and (TOPPING bacon ) along with (TOPPING pineapple ) but hold (NOT (QUANTITY extra ) (NOT (TOPPING cheese ) ) ) )\": make_if_possible returns None\n",
      "An exception occurred when creating a tree object from the string \"(ORDER i want (PIZZAORDER (NUMBER a ) (SIZE medium ) pizza with (TOPPING onions ) and (TOPPING chicken ) but no (NOT (QUANTITY extra ) (NOT (TOPPING cheese ) ) ) )\": make_if_possible returns None\n",
      "An exception occurred when creating a tree object from the string \"(ORDER i prefer (PIZZAORDER (NUMBER one ) pizza in (SIZE large ) size along with (TOPPING bacon ) and (TOPPING mushrooms ) but without (NOT (QUANTITY additional ) (NOT (TOPPING cheese ) ) ) )\": make_if_possible returns None\n",
      "An exception occurred when creating a tree object from the string \"(ORDER ill have (PIZZAORDER (NUMBER one ) (SIZE large ) pizza with (TOPPING pesto ) and (QUANTITY extra ) (TOPPING cheese ) and dont put (NOT (TOPPING olives ) (NOT (TOPPING on ) it ) ) )\": make_if_possible returns None\n",
      "An exception occurred when creating a tree object from the string \"(ORDER (PIZZAORDER good afternoon im in the mood for (NUMBER a ) (SIZE medium ) pizza id love (TOPPING pineapple ) on it and i love (STYLE thin ) crust please do not put (NOT (TOPPING any ) (NOT (TOPPING ham ) on there i ) ) )\": make_if_possible returns None\n",
      "An exception occurred when creating a tree object from the string \"(ORDER can i get (PIZZAORDER (NUMBER two ) (SIZE small ) (TOPPING onion ) and (TOPPING bacon ) pies with no (NOT (QUANTITY extra ) (NOT (TOPPING cheese ) please ) ) )\": make_if_possible returns None\n",
      "An exception occurred when creating a tree object from the string \"(ORDER i will (PIZZAORDER try (NUMBER two ) (SIZE small ) pies with (TOPPING onions ) (TOPPING bacon ) but no (NOT (QUANTITY extra ) (NOT (TOPPING cheese ) ) ) )\": make_if_possible returns None\n",
      "An exception occurred when creating a tree object from the string \"(ORDER i only (PIZZAORDER want (NUMBER one ) pizza today and id love it topped with (TOPPING pepperonis ) and (TOPPING sausage ) but i dont want (NOT (TOPPING any ) (NOT (TOPPING mushrooms ) (NOT (TOPPING hate ) (NOT (TOPPING mushrooms ) ) ) )\": make_if_possible returns None\n",
      "An exception occurred when creating a tree object from the string \"(ORDER get me (PIZZAORDER (NUMBER a ) (SIZE small ) (TOPPING mushroom ) and (TOPPING chicken ) pie no (NOT (QUANTITY extra ) (NOT (TOPPING cheese ) ) ) )\": make_if_possible returns None\n",
      "An exception occurred when creating a tree object from the string \"(ORDER get me (PIZZAORDER (NUMBER a ) (SIZE small ) (TOPPING ham ) (TOPPING pesto ) pie no (NOT (QUANTITY extra ) (NOT (TOPPING cheese ) ) ) )\": make_if_possible returns None\n",
      "An exception occurred when creating a tree object from the string \"(ORDER order me (PIZZAORDER (NUMBER a ) (SIZE large ) size pizza that has (TOPPING pesto ) and (TOPPING pineapple ) but no (NOT (QUANTITY extra ) (NOT (TOPPING cheese ) ) ) )\": make_if_possible returns None\n",
      "An exception occurred when creating a tree object from the string \"(ORDER order me (PIZZAORDER (NUMBER two ) (SIZE medium ) pizzas with (TOPPING mushrooms ) and (TOPPING pesto ) make sure they hold (NOT (TOPPING the ) (NOT (TOPPING onions ) ) ) )\": make_if_possible returns None\n",
      "An exception occurred when creating a tree object from the string \"(ORDER i want (PIZZAORDER (NUMBER a ) pizza with (TOPPING olives ) and (TOPPING pepperoni ) on it without (NOT (TOPPING any ) (NOT (TOPPING pesto ) ) ) )\": make_if_possible returns None\n",
      "An exception occurred when creating a tree object from the string \"(ORDER ill try (PIZZAORDER (NUMBER a ) (SIZE medium ) pizza with (TOPPING olives ) and (TOPPING tuna ) on there and hold (NOT (TOPPING the ) (NOT (TOPPING mushrooms ) please ) ) )\": make_if_possible returns None\n",
      "An exception occurred when creating a tree object from the string \"(ORDER ill take (PIZZAORDER (NUMBER a ) (SIZE large ) pizza with (TOPPING chicken ) on it and (TOPPING mushrooms ) please make sure there is no (NOT (QUANTITY extra ) (NOT (TOPPING cheese ) thats all ) ) )\": make_if_possible returns None\n",
      "An exception occurred when creating a tree object from the string \"(ORDER ill take (PIZZAORDER (NUMBER two ) (SIZE small ) pizzas with (TOPPING onions ) and (TOPPING bacon ) but hold (NOT (QUANTITY the ) (NOT (QUANTITY extra ) (NOT (TOPPING cheese ) please ) ) )\": make_if_possible returns None\n",
      "An exception occurred when creating a tree object from the string \"(ORDER lets get (PIZZAORDER (NUMBER two ) pizzas with no (NOT (TOPPING pepperoni ) (NOT (TOPPING jut ) pineapple and (TOPPING onions ) ) ) )\": make_if_possible returns None\n",
      "An exception occurred when creating a tree object from the string \"(ORDER i need (PIZZAORDER (NUMBER a ) (SIZE large ) pie and ill try it with (TOPPING bacon ) and (TOPPING mushrooms ) please no (NOT (QUANTITY extra ) (NOT (TOPPING cheese ) thats it ) ) )\": make_if_possible returns None\n",
      "An exception occurred when creating a tree object from the string \"(ORDER order a (PIZZAORDER (SIZE large ) pizza with (TOPPING bacon ) and (TOPPING pepperoni ) do not use (NOT (QUANTITY extra ) (NOT (TOPPING cheese ) ) ) )\": make_if_possible returns None\n",
      "An exception occurred when creating a tree object from the string \"(ORDER i want (PIZZAORDER (NUMBER a ) (TOPPING ham ) and (TOPPING tuna ) pie no (NOT (QUANTITY extra ) (NOT (TOPPING cheese ) ) ) )\": make_if_possible returns None\n",
      "An exception occurred when creating a tree object from the string \"(ORDER id like (PIZZAORDER (NUMBER a ) (SIZE large ) pizza with (TOPPING pesto ) and (TOPPING pineapple ) and no (NOT (QUANTITY extra ) (NOT (TOPPING cheese ) ) ) )\": make_if_possible returns None\n",
      "An exception occurred when creating a tree object from the string \"(ORDER i need (PIZZAORDER (NUMBER a ) (SIZE large ) pizza tonight with (QUANTITY extra ) (TOPPING cheese ) lets see i also want (TOPPING pepperoni ) but i do not want (NOT (TOPPING any ) (NOT (TOPPING bacon ) thanks a lot ) ) )\": make_if_possible returns None\n",
      "An exception occurred when creating a tree object from the string \"(ORDER i want (PIZZAORDER to order (NUMBER a ) (SIZE small ) pizza with (TOPPING pepperoni ) (TOPPING tuna ) and i do not want (NOT (STYLE the ) (NOT (STYLE thin ) crust ) ) )\": make_if_possible returns None\n",
      "An exception occurred when creating a tree object from the string \"(ORDER get me (PIZZAORDER (NUMBER a ) (SIZE small ) (TOPPING pepper ) and (TOPPING pineapple ) pie no (NOT (QUANTITY extra ) (NOT (TOPPING cheese ) and i want (NUMBER a ) (DRINKTYPE pepsi ) ) ) )\": make_if_possible returns None\n",
      "An exception occurred when creating a tree object from the string \"(ORDER id like (PIZZAORDER (NUMBER one ) (SIZE small ) pizza with (TOPPING olives ) and (TOPPING pesto ) but i dont want (NOT (TOPPING any ) (NOT (TOPPING peppers ) (NOT (TOPPING on ) (NOT (TOPPING it ) ) ) )\": make_if_possible returns None\n",
      "An exception occurred when creating a tree object from the string \"(ORDER i want (PIZZAORDER (NUMBER a ) (SIZE medium ) (TOPPING mushroom ) - (TOPPING pineapple ) pizza but id like you to leave off (NOT (TOPPING the ) (NOT (TOPPING ham ) ) ) )\": make_if_possible returns None\n",
      "An exception occurred when creating a tree object from the string \"(ORDER i would (PIZZAORDER like to get (NUMBER a ) (SIZE large ) pizza with (QUANTITY extra ) (TOPPING cheese ) and (TOPPING pepperoni ) and no (NOT (TOPPING bacon ) (NOT (TOPPING please ) ) ) )\": make_if_possible returns None\n",
      "An exception occurred when creating a tree object from the string \"(ORDER i would like (PIZZAORDER (NUMBER a ) (SIZE medium ) pizza with (TOPPING bacon ) (TOPPING chicken ) and no (NOT (QUANTITY extra ) (NOT (TOPPING cheese ) ) ) )\": make_if_possible returns None\n",
      "An exception occurred when creating a tree object from the string \"(ORDER can i get (PIZZAORDER (NUMBER one ) (SIZE large ) (TOPPING pineapple ) and (TOPPING ham ) pizza without (NOT (QUANTITY extra ) (NOT (TOPPING cheese ) ) ) )\": make_if_possible returns None\n",
      "An exception occurred when creating a tree object from the string \"(ORDER i will (PIZZAORDER try (NUMBER one ) (SIZE large ) pizza with (TOPPING pineapple ) and (TOPPING ham ) but no (NOT (QUANTITY extra ) (NOT (TOPPING cheese ) please ) ) )\": make_if_possible returns None\n",
      "An exception occurred when creating a tree object from the string \"(ORDER can i have (PIZZAORDER (NUMBER one ) (SIZE large ) pie with (TOPPING bacon ) (TOPPING pepperoni ) but no (NOT (QUANTITY extra ) (NOT (TOPPING cheese ) please ) ) )\": make_if_possible returns None\n",
      "An exception occurred when creating a tree object from the string \"(ORDER i need (PIZZAORDER (NUMBER one ) (SIZE small ) pizza with (TOPPING chicken ) and (TOPPING mushrooms ) and without (NOT (QUANTITY extra ) (NOT (TOPPING cheese ) ) ) )\": make_if_possible returns None\n",
      "An exception occurred when creating a tree object from the string \"(ORDER i only want (PIZZAORDER (NUMBER a ) (SIZE small ) pizza today please put (TOPPING olives ) and (TOPPING pesto ) on there but no (NOT (TOPPING peppers ) (NOT (TOPPING today ) thanks ) ) )\": make_if_possible returns None\n",
      "An exception occurred when creating a tree object from the string \"(ORDER i need (PIZZAORDER (NUMBER a ) (SIZE medium ) (TOPPING bacon ) and (TOPPING chicken ) pie with no (NOT (QUANTITY extra ) (NOT (TOPPING cheese ) ) ) )\": make_if_possible returns None\n",
      "An exception occurred when creating a tree object from the string \"(ORDER (PIZZAORDER (SIZE large ) pizza with (TOPPING bacon ) (TOPPING pepperoni ) and no (NOT (QUANTITY extra ) (NOT (TOPPING cheese ) please ) ) )\": make_if_possible returns None\n",
      "An exception occurred when creating a tree object from the string \"(ORDER get me (PIZZAORDER (NUMBER a ) (TOPPING pineapple ) and (TOPPING bacon ) pizza without the (NOT (QUANTITY extra ) (NOT (TOPPING cheese ) ) ) )\": make_if_possible returns None\n",
      "An exception occurred when creating a tree object from the string \"(ORDER can i get (PIZZAORDER (NUMBER a ) (SIZE small ) pizza with (TOPPING mushrooms ) and (TOPPING ham ) with no (NOT (QUANTITY extra ) (NOT (TOPPING cheese ) ) ) )\": make_if_possible returns None\n",
      "An exception occurred when creating a tree object from the string \"(ORDER i need (PIZZAORDER (NUMBER a ) pizza with (TOPPING tuna ) and (TOPPING bacon ) toppings but please dont put any (NOT (TOPPING onions ) (NOT (TOPPING on ) it ) ) )\": make_if_possible returns None\n",
      "An exception occurred when creating a tree object from the string \"(ORDER i would like to have (PIZZAORDER (NUMBER a ) pizza with (TOPPING olives ) and (TOPPING pepperoni ) but with no (NOT (TOPPING pesto ) (NOT (TOPPING in ) that ) ) )\": make_if_possible returns None\n",
      "An exception occurred when creating a tree object from the string \"(ORDER i want (PIZZAORDER (NUMBER five ) (TOPPING mushroom ) and (TOPPING onions ) pizzas without (NOT (TOPPING sausage ) (NOT (TOPPING on ) them ) ) )\": make_if_possible returns None\n",
      "An exception occurred when creating a tree object from the string \"(ORDER im ordering (PIZZAORDER (NUMBER a ) (SIZE small ) (TOPPING ham ) and (TOPPING pesto ) pie no (NOT (QUANTITY extra ) (NOT (TOPPING cheese ) ) ) )\": make_if_possible returns None\n",
      "An exception occurred when creating a tree object from the string \"(ORDER i think (PIZZAORDER ill order (NUMBER one ) pie and for toppings im in the mood for (TOPPING sausage ) and put some (TOPPING pineapple ) on there too but please absolutely (NOT (TOPPING no ) (NOT (TOPPING peppers ) ) ) )\": make_if_possible returns None\n",
      "An exception occurred when creating a tree object from the string \"(ORDER i wanted (PIZZAORDER (NUMBER a ) (SIZE large ) pizza with (TOPPING chicken ) and (TOPPING mushrooms ) but no (NOT (QUANTITY extra ) (NOT (TOPPING cheese ) please ) ) )\": make_if_possible returns None\n",
      "An exception occurred when creating a tree object from the string \"(ORDER i want (PIZZAORDER (NUMBER a ) (TOPPING sausage ) and (TOPPING bacon ) pie no (NOT (QUANTITY extra ) (NOT (TOPPING cheese ) ) ) )\": make_if_possible returns None\n",
      "An exception occurred when creating a tree object from the string \"(ORDER can i have (PIZZAORDER (NUMBER one ) (SIZE large ) pizza with (TOPPING chicken ) and (TOPPING mushrooms ) and without any (NOT (QUANTITY extra ) (NOT (TOPPING cheese ) please ) ) )\": make_if_possible returns None\n",
      "An exception occurred when creating a tree object from the string \"(ORDER i would like (PIZZAORDER to try (NUMBER a ) (TOPPING pineapple ) and (TOPPING bacon ) pizza with no (NOT (QUANTITY extra ) (NOT (TOPPING cheese ) please ) ) )\": make_if_possible returns None\n",
      "An exception occurred when creating a tree object from the string \"(ORDER ill try (PIZZAORDER (NUMBER a ) (TOPPING sausage ) and (TOPPING pesto ) pizza and i do not want (NOT (STYLE the ) (NOT (STYLE thin ) crust ) ) )\": make_if_possible returns None\n",
      "An exception occurred when creating a tree object from the string \"(ORDER (PIZZAORDER for tonight i just want (NUMBER a ) pizza with (TOPPING chicken ) as well as (TOPPING onions ) but i dont want (NOT (TOPPING any ) (NOT (TOPPING pesto ) thanks ) ) )\": make_if_possible returns None\n",
      "An exception occurred when creating a tree object from the string \"(ORDER i want (PIZZAORDER to get (NUMBER one ) pizza make it a (SIZE medium ) and id like it with (TOPPING onions ) and (TOPPING chicken ) but please do not make it with (NOT (QUANTITY extra ) (NOT (TOPPING cheese ) ) ) )\": make_if_possible returns None\n",
      "An exception occurred when creating a tree object from the string \"(ORDER (PIZZAORDER good evening i want to order (NUMBER two ) pizzas with (TOPPING pineapple ) and (TOPPING onion ) on them but (NOT (TOPPING hold ) (NOT (TOPPING the ) (NOT (TOPPING pepperoni ) (NOT (TOPPING thanks ) ) ) )\": make_if_possible returns None\n",
      "An exception occurred when creating a tree object from the string \"(ORDER can i have (PIZZAORDER (NUMBER one ) (SIZE large ) pizza with (TOPPING mushrooms ) and (TOPPING bacon ) and no (NOT (QUANTITY extra ) (NOT (TOPPING cheese ) ) ) )\": make_if_possible returns None\n",
      "An exception occurred when creating a tree object from the string \"(ORDER please put (PIZZAORDER up (NUMBER a ) pizza with (TOPPING olives ) and (TOPPING sausage ) but i dont want (NOT (TOPPING tuna ) (NOT (TOPPING on ) it thanks ) ) )\": make_if_possible returns None\n",
      "An exception occurred when creating a tree object from the string \"(ORDER give me (PIZZAORDER (NUMBER a ) (SIZE small ) pie with (TOPPING ham ) and (TOPPING mushrooms ) and no (NOT (QUANTITY extra ) (NOT (TOPPING cheese ) please ) ) )\": make_if_possible returns None\n",
      "An exception occurred when creating a tree object from the string \"(ORDER give me (PIZZAORDER (NUMBER a ) (SIZE medium ) size pie with (TOPPING sausage ) and (TOPPING ham ) without any (NOT (QUANTITY extra ) (NOT (TOPPING cheese ) ) ) )\": make_if_possible returns None\n",
      "An exception occurred when creating a tree object from the string \"(ORDER (PIZZAORDER make an order for (NUMBER three ) (SIZE small ) pizzas with no (NOT (TOPPING cheese ) but (NOT (QUANTITY extra ) (TOPPING sauce ) and also include (NUMBER one ) (TOPPING bacon ) and (TOPPING ham ) (TOPPING large ) pizza ) ) )\": make_if_possible returns None\n",
      "An exception occurred when creating a tree object from the string \"(ORDER i would (PIZZAORDER take (NUMBER one ) (SIZE small ) pie with (TOPPING ham ) (TOPPING pesto ) without (NOT (QUANTITY extra ) (NOT (QUANTITY cheese ) ) ) )\": make_if_possible returns None\n",
      "An exception occurred when creating a tree object from the string \"(ORDER i want (PIZZAORDER to order (NUMBER one ) pie and make it (SIZE medium ) size for toppings id like (TOPPING bacon ) and (TOPPING pesto ) but id appreciate (NOT (TOPPING it ) (NOT (TOPPING if ) you leave off (NOT (TOPPING sausage ) (NOT (TOPPING thats ) it ) ) )\": make_if_possible returns None\n",
      "An exception occurred when creating a tree object from the string \"(ORDER i would (PIZZAORDER love to get (NUMBER a ) (SIZE large ) (STYLE thin ) crust pizza with (TOPPING olives ) but i dont want any (NOT (TOPPING sausage ) (NOT (TOPPING on ) it ) ) )\": make_if_possible returns None\n",
      "An exception occurred when creating a tree object from the string \"(ORDER i wanted to (PIZZAORDER have (NUMBER two ) pizzas with (TOPPING onions ) and (TOPPING chicken ) avoid adding (NOT (QUANTITY extra ) (NOT (TOPPING cheese ) please ) ) )\": make_if_possible returns None\n",
      "An exception occurred when creating a tree object from the string \"(ORDER i prefer (PIZZAORDER (NUMBER a ) pie in (SIZE small ) size along with (TOPPING peppers ) and (TOPPING pineapple ) with no (NOT (QUANTITY additional ) (NOT (TOPPING cheese ) and (NUMBER a ) (DRINKTYPE pepsi ) ) ) )\": make_if_possible returns None\n",
      "An exception occurred when creating a tree object from the string \"(ORDER i will (PIZZAORDER try (NUMBER one ) (SIZE small ) pizza with (TOPPING mushrooms ) and (TOPPING chicken ) but hold the (NOT (QUANTITY extra ) (NOT (TOPPING cheese ) ) ) )\": make_if_possible returns None\n",
      "An exception occurred when creating a tree object from the string \"(ORDER i (PIZZAORDER would like to have (NUMBER a ) pizza with (STYLE thin ) crust and (TOPPING sausage ) but avoid (NOT (QUANTITY extra ) (NOT (TOPPING cheese ) please ) ) )\": make_if_possible returns None\n",
      "An exception occurred when creating a tree object from the string \"(ORDER i need (PIZZAORDER (NUMBER a ) (STYLE thin ) crust pizza with (TOPPING sausage ) and no (NOT (QUANTITY extra ) (NOT (TOPPING cheese ) please ) ) )\": make_if_possible returns None\n",
      "An exception occurred when creating a tree object from the string \"(ORDER (PIZZAORDER do me a favor and please put up (NUMBER a ) pizza with (TOPPING pineapple ) as well as (TOPPING ham ) however i do not want (NOT (TOPPING any ) (NOT (TOPPING peppers ) thank you ) ) )\": make_if_possible returns None\n",
      "An exception occurred when creating a tree object from the string \"(ORDER (PIZZAORDER my order for today is for (NUMBER one ) pie with (TOPPING pineapple ) on it as well as (TOPPING bacon ) and no (NOT (QUANTITY extra ) (NOT (TOPPING cheese ) thats it ) ) )\": make_if_possible returns None\n",
      "An exception occurred when creating a tree object from the string \"(ORDER (PIZZAORDER do me a favor and make me (NUMBER one ) (SIZE large ) pizza and id like (TOPPING onions ) and (TOPPING pineapple ) on it but make sure there isnt any (NOT (TOPPING pesto ) (NOT (TOPPING much ) appreciated ) ) )\": make_if_possible returns None\n",
      "An exception occurred when creating a tree object from the string \"(ORDER i need (PIZZAORDER to order (NUMBER a ) (TOPPING pepperoni ) and (TOPPING pineapple ) pie with no (NOT (TOPPING tuna ) (NOT (TOPPING on ) it ) ) )\": make_if_possible returns None\n",
      "An exception occurred when creating a tree object from the string \"(ORDER (PIZZAORDER good evening how are you please put up (NUMBER a ) pizza for me and ill try (TOPPING olives ) (STYLE thin ) crust on it but (NOT (TOPPING no ) (NOT (TOPPING pineapples ) (NOT (TOPPING tonight ) thanks so much ) ) )\": make_if_possible returns None\n",
      "An exception occurred when creating a tree object from the string \"(ORDER i want (PIZZAORDER (NUMBER a ) (TOPPING pepperoni ) and (TOPPING pineapple ) pizza without any (NOT (TOPPING tuna ) (NOT (TOPPING on ) it ) ) )\": make_if_possible returns None\n",
      "An exception occurred when creating a tree object from the string \"(ORDER i would like (PIZZAORDER (NUMBER a ) (SIZE large ) (TOPPING pesto ) and (TOPPING pineapple ) pizza but i do not want (NOT (TOPPING any ) (NOT (TOPPING extra ) (NOT (TOPPING cheese ) ) ) )\": make_if_possible returns None\n",
      "An exception occurred when creating a tree object from the string \"(ORDER id like (PIZZAORDER (NUMBER a ) (TOPPING sausage ) and (TOPPING pesto ) pizza but i do not want it (NOT (STYLE on ) (NOT (STYLE thin ) crust ) ) )\": make_if_possible returns None\n",
      "An exception occurred when creating a tree object from the string \"(ORDER get me (PIZZAORDER (NUMBER a ) (SIZE medium ) (TOPPING ham ) and (TOPPING sausage ) pie no (NOT (QUANTITY extra ) (NOT (TOPPING cheese ) ) ) )\": make_if_possible returns None\n",
      "An exception occurred when creating a tree object from the string \"(ORDER ill go for (PIZZAORDER (NUMBER a ) (SIZE medium ) pie along with (TOPPING ham ) (TOPPING sausage ) but please avoid (NOT (QUANTITY extra ) (NOT (TOPPING cheese ) ) ) )\": make_if_possible returns None\n",
      "An exception occurred when creating a tree object from the string \"(ORDER i need (PIZZAORDER to get (NUMBER a ) (SIZE medium ) (TOPPING onion ) and (TOPPING chicken ) pizza without the (NOT (QUANTITY extra ) (NOT (TOPPING cheese ) ) ) )\": make_if_possible returns None\n",
      "An exception occurred when creating a tree object from the string \"(ORDER (PIZZAORDER just (NUMBER one ) (SIZE small ) pizza please for toppings id love (TOPPING sausage ) (TOPPING pesto ) but i dont want (NOT (TOPPING pepperoni ) (NOT (TOPPING okay ) (NOT (TOPPING thats ) it ) ) )\": make_if_possible returns None\n",
      "An exception occurred when creating a tree object from the string \"(ORDER i want (PIZZAORDER (NUMBER a ) (STYLE thin ) crust pizza with (TOPPING sausage ) and no (NOT (QUANTITY extra ) (NOT (TOPPING cheese ) ) ) )\": make_if_possible returns None\n",
      "An exception occurred when creating a tree object from the string \"(ORDER i would like (PIZZAORDER have (NUMBER a ) (SIZE medium ) pie with (TOPPING onions ) and (TOPPING chicken ) but no (NOT (QUANTITY extra ) (NOT (TOPPING cheese ) please ) ) )\": make_if_possible returns None\n",
      "An exception occurred when creating a tree object from the string \"(ORDER get me (PIZZAORDER (NUMBER a ) (SIZE medium ) (TOPPING pepperoni ) and (TOPPING chicken ) pizza with no (NOT (QUANTITY extra ) (NOT (TOPPING cheese ) ) ) )\": make_if_possible returns None\n",
      "An exception occurred when creating a tree object from the string \"(ORDER (PIZZAORDER im having a bunch of people over tonight so i need (NUMBER five ) pizzas i want (TOPPING mushrooms ) and (TOPPING onions ) on all of them and no (NOT (TOPPING sausage ) on (NOT (TOPPING any ) of them ) ) )\": make_if_possible returns None\n",
      "An exception occurred when creating a tree object from the string \"(ORDER i would like (PIZZAORDER (NUMBER one ) (SIZE large ) pizza with (TOPPING pineapple ) and (TOPPING ham ) and no (NOT (QUANTITY extra ) (NOT (TOPPING cheese ) ) ) )\": make_if_possible returns None\n",
      "An exception occurred when creating a tree object from the string \"(ORDER (PIZZAORDER hi tonight i want (NUMBER a ) (SIZE small ) pizza and i need (TOPPING peppers ) on there and also i want (TOPPING pineapple ) definitely i dont want any (NOT (TOPPING extra ) (NOT (TOPPING cheese ) (NOT (TOPPING oh ) and i want ) ) )\": make_if_possible returns None\n",
      "An exception occurred when creating a tree object from the string \"(ORDER i (PIZZAORDER would like to have (NUMBER one ) (SIZE small ) pizza with (TOPPING mushrooms ) and (TOPPING chicken ) but do not add any (NOT (QUANTITY extra ) (NOT (TOPPING cheese ) please ) ) )\": make_if_possible returns None\n",
      "An exception occurred when creating a tree object from the string \"(ORDER (PIZZAORDER ill go with (NUMBER one ) pie which is (SIZE small ) in size along with (TOPPING more ) (TOPPING cheese ) and (TOPPING tuna ) but (NOT (TOPPING no ) (NOT (TOPPING pepperoni ) ) ) )\": make_if_possible returns None\n",
      "An exception occurred when creating a tree object from the string \"(ORDER can i get (PIZZAORDER (NUMBER two ) (SIZE small ) pizzas with (TOPPING onions ) and (TOPPING bacon ) but no (NOT (QUANTITY extra ) (NOT (TOPPING cheese ) ) ) )\": make_if_possible returns None\n",
      "An exception occurred when creating a tree object from the string \"(ORDER can i get (PIZZAORDER (NUMBER an ) (TOPPING olive ) and (TOPPING onion ) pizza i dont want any (NOT (TOPPING mushrooms ) on it and id like it (NOT (TOPPING medium ) ) ) )\": make_if_possible returns None\n",
      "An exception occurred when creating a tree object from the string \"(ORDER can i get (PIZZAORDER (NUMBER a ) (SIZE medium ) (TOPPING bacon ) and (TOPPING chicken ) pie with no (NOT (QUANTITY extra ) (NOT (TOPPING cheese ) ) ) )\": make_if_possible returns None\n",
      "An exception occurred when creating a tree object from the string \"(ORDER ill try (PIZZAORDER (NUMBER three ) pies with (TOPPING bacon ) and (TOPPING tuna ) but i need to (NOT (TOPPING avoid ) (NOT (TOPPING pepperoni ) ) ) )\": make_if_possible returns None\n",
      "An exception occurred when creating a tree object from the string \"(ORDER ill try (PIZZAORDER (NUMBER a ) (SIZE small ) pie and (TOPPING mushrooms ) (TOPPING ham ) but hold on (NOT (QUANTITY extra ) (NOT (TOPPING cheese ) ) ) )\": make_if_possible returns None\n",
      "An exception occurred when creating a tree object from the string \"(ORDER get me (PIZZAORDER (NUMBER one ) (SIZE large ) (TOPPING chicken ) and (TOPPING mushroom ) pizza without the (NOT (QUANTITY extra ) (NOT (TOPPING cheese ) ) ) )\": make_if_possible returns None\n",
      "An exception occurred when creating a tree object from the string \"(ORDER get me (PIZZAORDER (NUMBER a ) (SIZE large ) (TOPPING pineapple ) and (TOPPING ham ) pizza no (NOT (QUANTITY extra ) (NOT (TOPPING cheese ) though ) ) )\": make_if_possible returns None\n",
      "An exception occurred when creating a tree object from the string \"(ORDER i want (PIZZAORDER to order (NUMBER a ) (SIZE large ) (TOPPING bacon ) and (TOPPING mushroom ) pie no (NOT (QUANTITY extra ) (NOT (TOPPING cheese ) ) ) )\": make_if_possible returns None\n",
      "An exception occurred when creating a tree object from the string \"(ORDER im going to (PIZZAORDER go with (NUMBER a ) (SIZE medium-size ) bacon and (TOPPING chicken ) pizza (TOPPING and ) i need you to leave off the (NOT (TOPPING olives ) (NOT (TOPPING please ) ) ) )\": make_if_possible returns None\n",
      "An exception occurred when creating a tree object from the string \"(ORDER ill try (PIZZAORDER (NUMBER a ) (SIZE medium ) pie along with (TOPPING bacon ) and (TOPPING chicken ) but avoid (NOT (QUANTITY extra ) (NOT (TOPPING cheese ) ) ) )\": make_if_possible returns None\n",
      "An exception occurred when creating a tree object from the string \"(ORDER ill go with (PIZZAORDER (NUMBER one ) pizza in (SIZE large ) size along with (TOPPING pineapple ) and (TOPPING ham ) but without (NOT (QUANTITY extra ) (NOT (TOPPING cheese ) ) ) )\": make_if_possible returns None\n"
     ]
    },
    {
     "data": {
      "text/plain": [
       "np.float64(0.6933140747066542)"
      ]
     },
     "execution_count": 10,
     "metadata": {},
     "output_type": "execute_result"
    }
   ],
   "source": [
    "count=0\n",
    "err_count=0\n",
    "sum=0\n",
    "\n",
    "for i in range(0, len(tops_ctx)):\n",
    "    try:\n",
    "        s = is_semantics_only_unordered_exact_match_post_ER_top_top(\n",
    "            str(tops_ctx[i]), str(real_tops[i]), resolver)\n",
    "    except Exception as e:\n",
    "        print(f\"Error processing index {i}: {e}\")\n",
    "        err_count+=1\n",
    "    sum += s\n",
    "    count+=1\n",
    "\n",
    "sum/count"
   ]
  },
  {
   "cell_type": "code",
   "execution_count": 19,
   "metadata": {},
   "outputs": [
    {
     "data": {
      "text/plain": [
       "1"
      ]
     },
     "execution_count": 19,
     "metadata": {},
     "output_type": "execute_result"
    }
   ],
   "source": [
    "err_count"
   ]
  },
  {
   "cell_type": "code",
   "execution_count": null,
   "metadata": {},
   "outputs": [],
   "source": []
  }
 ],
 "metadata": {
  "kernelspec": {
   "display_name": "venv",
   "language": "python",
   "name": "python3"
  },
  "language_info": {
   "codemirror_mode": {
    "name": "ipython",
    "version": 3
   },
   "file_extension": ".py",
   "mimetype": "text/x-python",
   "name": "python",
   "nbconvert_exporter": "python",
   "pygments_lexer": "ipython3",
   "version": "3.12.3"
  }
 },
 "nbformat": 4,
 "nbformat_minor": 2
}
