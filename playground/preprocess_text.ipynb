{
 "cells": [
  {
   "cell_type": "code",
   "execution_count": 1,
   "metadata": {},
   "outputs": [
    {
     "name": "stderr",
     "output_type": "stream",
     "text": [
      "2024-12-15 18:28:41.636054: E external/local_xla/xla/stream_executor/cuda/cuda_fft.cc:477] Unable to register cuFFT factory: Attempting to register factory for plugin cuFFT when one has already been registered\n",
      "WARNING: All log messages before absl::InitializeLog() is called are written to STDERR\n",
      "E0000 00:00:1734280121.649611  122196 cuda_dnn.cc:8310] Unable to register cuDNN factory: Attempting to register factory for plugin cuDNN when one has already been registered\n",
      "E0000 00:00:1734280121.653602  122196 cuda_blas.cc:1418] Unable to register cuBLAS factory: Attempting to register factory for plugin cuBLAS when one has already been registered\n",
      "2024-12-15 18:28:41.669036: I tensorflow/core/platform/cpu_feature_guard.cc:210] This TensorFlow binary is optimized to use available CPU instructions in performance-critical operations.\n",
      "To enable the following instructions: AVX2 FMA, in other operations, rebuild TensorFlow with the appropriate compiler flags.\n"
     ]
    }
   ],
   "source": [
    "import tensorflow as tf\n",
    "import json\n",
    "import numpy as np\n",
    "import re\n",
    "from tqdm import tqdm"
   ]
  },
  {
   "cell_type": "code",
   "execution_count": 2,
   "metadata": {},
   "outputs": [],
   "source": [
    "punctuation = re.compile(r\"[^\\w\\s-]\")\n",
    "def preprocess_text(text):\n",
    "\n",
    "\n",
    "    # text = contractions.fix(text) # expand contractions //stop now to save time annotating\n",
    "\n",
    "\n",
    "    # text = spell_check(text) # spell check\n",
    "    # words = text.split()\n",
    "    # corrected_words = [spell.correction(word) or word for word in words]\n",
    "    # text = ' '.join(corrected_words)\n",
    "\n",
    "\n",
    "    text = tf.strings.strip(text) # leading/trailing whitespace removal\n",
    "\n",
    "\n",
    "    text = tf.strings.lower(text)\n",
    "\n",
    "    text = punctuation.sub(\"\", text.numpy().decode('utf-8')) # punctuation removal\n",
    "\n",
    "\n",
    "    # text = nlp(text) # lemmatization\n",
    "\n",
    "\n",
    "    # text = tokenizer.tokenize(text.numpy().decode('utf-8'))  # tokenization\n",
    "\n",
    "    return text"
   ]
  },
  {
   "cell_type": "code",
   "execution_count": 3,
   "metadata": {},
   "outputs": [
    {
     "name": "stdout",
     "output_type": "stream",
     "text": [
      "2456446\n"
     ]
    }
   ],
   "source": [
    "data_train = []\n",
    "with open('PIZZA_train.json', 'r') as f:\n",
    "    for line in f:\n",
    "        data_train.append(json.loads(line))\n",
    "\n",
    "print(len(data_train))"
   ]
  },
  {
   "cell_type": "code",
   "execution_count": 4,
   "metadata": {},
   "outputs": [
    {
     "name": "stdout",
     "output_type": "stream",
     "text": [
      "348\n"
     ]
    }
   ],
   "source": [
    "with open('PIZZA_dev.json', 'r') as file:\n",
    "    data_dev = json.load(file)\n",
    "\n",
    "# Print the loaded data\n",
    "print(len(data_dev))"
   ]
  },
  {
   "cell_type": "code",
   "execution_count": 4,
   "metadata": {},
   "outputs": [
    {
     "name": "stdout",
     "output_type": "stream",
     "text": [
      "1357\n"
     ]
    }
   ],
   "source": [
    "data_test = []\n",
    "with open('PIZZA_test.json', 'r') as f:\n",
    "    for line in f:\n",
    "        data_test.append(json.loads(line))\n",
    "\n",
    "print(len(data_test))"
   ]
  },
  {
   "cell_type": "code",
   "execution_count": 5,
   "metadata": {},
   "outputs": [],
   "source": [
    "def extract_text_train(data):\n",
    "    return data['train.SRC'], data['train.EXR'], data['train.TOP'], data['train.TOP-DECOUPLED']"
   ]
  },
  {
   "cell_type": "code",
   "execution_count": 6,
   "metadata": {},
   "outputs": [],
   "source": [
    "def extract_text_dev(data):\n",
    "    return data['dev.SRC'], data['dev.EXR'], data['dev.TOP'], data['dev.PCFG_ERR']"
   ]
  },
  {
   "cell_type": "code",
   "execution_count": 5,
   "metadata": {},
   "outputs": [],
   "source": [
    "def extract_text_test(data):\n",
    "    return data['test.SRC'], data['test.EXR'], data['test.TOP'], data['test.PCFG_ERR']"
   ]
  },
  {
   "cell_type": "code",
   "execution_count": 7,
   "metadata": {},
   "outputs": [],
   "source": [
    "sentences_train, explanations_train, topics_train, decoupled_topics_train = map(np.array, zip(*map(extract_text_train, data_train)))"
   ]
  },
  {
   "cell_type": "code",
   "execution_count": 8,
   "metadata": {},
   "outputs": [],
   "source": [
    "sentences_dev, explanations_dev, topics_dev, decoupled_topics_dev = map(np.array, zip(*map(extract_text_dev, data_dev)))"
   ]
  },
  {
   "cell_type": "code",
   "execution_count": 6,
   "metadata": {},
   "outputs": [],
   "source": [
    "sentences_test, explanations_test, topics_test, decoupled_topics_test = map(np.array, zip(*map(extract_text_test, data_test)))"
   ]
  },
  {
   "cell_type": "code",
   "execution_count": 9,
   "metadata": {},
   "outputs": [
    {
     "name": "stderr",
     "output_type": "stream",
     "text": [
      "Processing Train Sentences:   0%|          | 0/2456446 [00:00<?, ?it/s]I0000 00:00:1734208313.080700   14342 gpu_device.cc:2022] Created device /job:localhost/replica:0/task:0/device:GPU:0 with 4273 MB memory:  -> device: 0, name: NVIDIA GeForce RTX 3060 Laptop GPU, pci bus id: 0000:01:00.0, compute capability: 8.6\n",
      "Processing Train Sentences: 100%|██████████| 2456446/2456446 [05:03<00:00, 8093.37it/s]\n"
     ]
    }
   ],
   "source": [
    "\n",
    "processed_sentences_train = [\n",
    "    preprocess_text(sentence) for sentence in tqdm(sentences_train, desc=\"Processing Train Sentences\")\n",
    "]\n",
    "processed_sentences_train = np.array(processed_sentences_train)"
   ]
  },
  {
   "cell_type": "code",
   "execution_count": 10,
   "metadata": {},
   "outputs": [
    {
     "name": "stderr",
     "output_type": "stream",
     "text": [
      "Processing Dev Sentences: 100%|██████████| 348/348 [00:00<00:00, 7822.43it/s]\n"
     ]
    }
   ],
   "source": [
    "\n",
    "processed_sentences_dev = [\n",
    "    preprocess_text(sentence) for sentence in tqdm(sentences_dev, desc=\"Processing Dev Sentences\")\n",
    "]\n",
    "processed_sentences_dev = np.array(processed_sentences_dev)"
   ]
  },
  {
   "cell_type": "code",
   "execution_count": 7,
   "metadata": {},
   "outputs": [
    {
     "name": "stderr",
     "output_type": "stream",
     "text": [
      "Processing Test Sentences:   0%|          | 0/1357 [00:00<?, ?it/s]I0000 00:00:1734280307.537692  122196 gpu_device.cc:2022] Created device /job:localhost/replica:0/task:0/device:GPU:0 with 4273 MB memory:  -> device: 0, name: NVIDIA GeForce RTX 3060 Laptop GPU, pci bus id: 0000:01:00.0, compute capability: 8.6\n",
      "Processing Test Sentences: 100%|██████████| 1357/1357 [00:01<00:00, 789.49it/s]\n"
     ]
    }
   ],
   "source": [
    "processed_sentences_test = [\n",
    "    preprocess_text(sentence) for sentence in tqdm(sentences_test, desc=\"Processing Test Sentences\")\n",
    "]\n",
    "processed_sentences_test = np.array(processed_sentences_test)"
   ]
  },
  {
   "cell_type": "code",
   "execution_count": 8,
   "metadata": {},
   "outputs": [],
   "source": [
    "# np.save('processed_sentences_no_conct_train.npy', processed_sentences_train)\n",
    "# np.save('processed_sentences_no_conct_dev.npy', processed_sentences_dev)\n",
    "np.save('processed_sentences_no_conct_test.npy', processed_sentences_test)\n"
   ]
  },
  {
   "cell_type": "code",
   "execution_count": null,
   "metadata": {},
   "outputs": [],
   "source": []
  }
 ],
 "metadata": {
  "kernelspec": {
   "display_name": "venv",
   "language": "python",
   "name": "python3"
  },
  "language_info": {
   "codemirror_mode": {
    "name": "ipython",
    "version": 3
   },
   "file_extension": ".py",
   "mimetype": "text/x-python",
   "name": "python",
   "nbconvert_exporter": "python",
   "pygments_lexer": "ipython3",
   "version": "3.12.3"
  }
 },
 "nbformat": 4,
 "nbformat_minor": 2
}
