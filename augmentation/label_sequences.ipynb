{
 "cells": [
  {
   "cell_type": "code",
   "execution_count": 1,
   "metadata": {},
   "outputs": [],
   "source": [
    "import numpy as np\n",
    "\n",
    "import sys\n",
    "sys.path.append(\"..\")"
   ]
  },
  {
   "cell_type": "code",
   "execution_count": 2,
   "metadata": {},
   "outputs": [],
   "source": [
    "from helper_functions import map_label_sequences"
   ]
  },
  {
   "cell_type": "code",
   "execution_count": 3,
   "metadata": {},
   "outputs": [],
   "source": [
    "labels_pizza_train = np.load(\"../data/processed/train/words_entities_pizza_train.npy\",allow_pickle=True)\n",
    "labels_drink_train = np.load(\"../data/processed/train/words_entities_drink_train.npy\",allow_pickle=True)\n",
    "\n",
    "labels_pizza_dev = np.load(\"../data/processed/dev/words_entities_pizza_dev.npy\",allow_pickle=True)\n",
    "labels_drink_dev = np.load(\"../data/processed/dev/words_entities_drink_dev.npy\",allow_pickle=True)\n",
    "\n",
    "labels_pizza_test = np.load(\"../data/processed/test/words_entities_pizza_test.npy\",allow_pickle=True)\n",
    "labels_drink_test = np.load(\"../data/processed/test/words_entities_drink_test.npy\",allow_pickle=True)"
   ]
  },
  {
   "cell_type": "code",
   "execution_count": 4,
   "metadata": {},
   "outputs": [],
   "source": [
    "sequence_indices_pizza_train, sequence_map_pizza_train = map_label_sequences(labels_pizza_train)\n",
    "sequence_indices_drink_train, sequence_map_drink_train = map_label_sequences(labels_drink_train)\n",
    "\n",
    "sequence_indices_pizza_dev, sequence_map_pizza_dev = map_label_sequences(labels_pizza_dev)\n",
    "sequence_indices_drink_dev, sequence_map_drink_dev = map_label_sequences(labels_drink_dev)\n",
    "\n",
    "sequence_indices_pizza_test, sequence_map_pizza_test = map_label_sequences(labels_pizza_test)\n",
    "sequence_indices_drink_test, sequence_map_drink_test = map_label_sequences(labels_drink_test)"
   ]
  },
  {
   "cell_type": "code",
   "execution_count": 5,
   "metadata": {},
   "outputs": [],
   "source": [
    "sequence_reverse_map_pizza_train= {value: key for key, value in sequence_map_pizza_train.items()}\n",
    "sequence_reverse_map_pizza_dev= {value: key for key, value in sequence_map_pizza_dev.items()}\n",
    "sequence_reverse_map_pizza_test= {value: key for key, value in sequence_map_pizza_test.items()}\n",
    "\n",
    "sequence_reverse_map_drink_train = {value: key for key, value in sequence_map_drink_train.items()}\n",
    "sequence_reverse_map_drink_dev = {value: key for key, value in sequence_map_drink_dev.items()}\n",
    "sequence_reverse_map_drink_test = {value: key for key, value in sequence_map_drink_test.items()}"
   ]
  },
  {
   "cell_type": "code",
   "execution_count": 6,
   "metadata": {},
   "outputs": [],
   "source": [
    "np.save(\"../data/processed/train/sequence_indices_pizza_train.npy\", sequence_indices_pizza_train)\n",
    "np.save(\"../data/processed/train/sequence_map_pizza_train.npy\", sequence_map_pizza_train)\n",
    "\n",
    "np.save(\"../data/processed/train/sequence_indices_drink_train.npy\", sequence_indices_drink_train)\n",
    "np.save(\"../data/processed/train/sequence_map_drink_train.npy\", sequence_map_drink_train)\n",
    "\n",
    "np.save(\"../data/processed/dev/sequence_indices_pizza_dev.npy\", sequence_indices_pizza_dev)\n",
    "np.save(\"../data/processed/dev/sequence_map_pizza_dev.npy\", sequence_map_pizza_dev)\n",
    "\n",
    "np.save(\"../data/processed/dev/sequence_indices_drink_dev.npy\", sequence_indices_drink_dev)\n",
    "np.save(\"../data/processed/dev/sequence_map_drink_dev.npy\", sequence_map_drink_dev)\n",
    "\n",
    "np.save(\"../data/processed/test/sequence_indices_pizza_test.npy\", sequence_indices_pizza_test)\n",
    "np.save(\"../data/processed/test/sequence_map_pizza_test.npy\", sequence_map_pizza_test)\n",
    "\n",
    "np.save(\"../data/processed/test/sequence_indices_drink_test.npy\", sequence_indices_drink_test)\n",
    "np.save(\"../data/processed/test/sequence_map_drink_test.npy\", sequence_map_drink_test)\n"
   ]
  },
  {
   "cell_type": "code",
   "execution_count": 20,
   "metadata": {},
   "outputs": [],
   "source": [
    "np.save(\"../data/processed/train/sequence_reverse_map_pizza_train.npy\",sequence_reverse_map_pizza_train)\n",
    "np.save(\"../data/processed/train/sequence_reverse_map_drink_train.npy\",sequence_reverse_map_drink_train)\n",
    "\n",
    "np.save(\"../data/processed/dev/sequence_reverse_map_pizza_train.npy\",sequence_reverse_map_pizza_dev)\n",
    "np.save(\"../data/processed/dev/sequence_reverse_map_drink_train.npy\",sequence_reverse_map_drink_dev)\n",
    "\n",
    "np.save(\"../data/processed/train/sequence_reverse_map_pizza_test.npy\",sequence_reverse_map_pizza_test)\n",
    "np.save(\"../data/processed/train/sequence_reverse_map_drink_test.npy\",sequence_reverse_map_drink_test)"
   ]
  },
  {
   "cell_type": "code",
   "execution_count": 37,
   "metadata": {},
   "outputs": [],
   "source": [
    "import pandas as pd\n",
    "\n",
    "df_train=pd.DataFrame({\n",
    "    's_ind_pizza_train':sequence_indices_pizza_train,\n",
    "    's_ind_drink_train':sequence_indices_drink_train,\n",
    "})\n",
    "\n",
    "df_dev=pd.DataFrame({\n",
    "    's_ind_pizza_dev':sequence_indices_pizza_dev,\n",
    "    's_ind_drink_dev':sequence_indices_drink_dev,\n",
    "})\n",
    "\n",
    "df_test=pd.DataFrame({\n",
    "    's_ind_pizza_test':sequence_indices_pizza_test,\n",
    "    's_ind_drink_test':sequence_indices_drink_test,\n",
    "})"
   ]
  },
  {
   "cell_type": "code",
   "execution_count": null,
   "metadata": {},
   "outputs": [],
   "source": [
    "sequence_indices_drink_train"
   ]
  },
  {
   "cell_type": "code",
   "execution_count": 1,
   "metadata": {},
   "outputs": [
    {
     "ename": "NameError",
     "evalue": "name 'df_train' is not defined",
     "output_type": "error",
     "traceback": [
      "\u001b[0;31m---------------------------------------------------------------------------\u001b[0m",
      "\u001b[0;31mNameError\u001b[0m                                 Traceback (most recent call last)",
      "Cell \u001b[0;32mIn[1], line 1\u001b[0m\n\u001b[0;32m----> 1\u001b[0m \u001b[43mdf_train\u001b[49m[\u001b[38;5;124m'\u001b[39m\u001b[38;5;124ms_ind_pizza_train\u001b[39m\u001b[38;5;124m'\u001b[39m]\u001b[38;5;241m.\u001b[39mnunique()\n",
      "\u001b[0;31mNameError\u001b[0m: name 'df_train' is not defined"
     ]
    }
   ],
   "source": [
    "df_train['s_ind_pizza_train'].nunique()"
   ]
  },
  {
   "cell_type": "code",
   "execution_count": 43,
   "metadata": {},
   "outputs": [],
   "source": [
    "df_train.to_csv('../data/processed/train/s_pizza_drink_train.csv')\n",
    "df_dev.to_csv('../data/processed/dev/s_pizza_drink_dev.csv')\n",
    "df_test.to_csv('../data/processed/test/s_pizza_drink_test.csv')"
   ]
  },
  {
   "cell_type": "code",
   "execution_count": null,
   "metadata": {},
   "outputs": [],
   "source": []
  }
 ],
 "metadata": {
  "kernelspec": {
   "display_name": "venv",
   "language": "python",
   "name": "python3"
  },
  "language_info": {
   "codemirror_mode": {
    "name": "ipython",
    "version": 3
   },
   "file_extension": ".py",
   "mimetype": "text/x-python",
   "name": "python",
   "nbconvert_exporter": "python",
   "pygments_lexer": "ipython3",
   "version": "3.12.3"
  }
 },
 "nbformat": 4,
 "nbformat_minor": 2
}
