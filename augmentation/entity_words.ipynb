{
 "cells": [
  {
   "cell_type": "code",
   "execution_count": 1,
   "metadata": {},
   "outputs": [],
   "source": [
    "import numpy as np\n",
    "from collections import defaultdict\n",
    "\n",
    "\n",
    "import sys\n",
    "sys.path.append(\"..\")"
   ]
  },
  {
   "cell_type": "code",
   "execution_count": 2,
   "metadata": {},
   "outputs": [],
   "source": [
    "from helper_functions import extract_unique_words"
   ]
  },
  {
   "cell_type": "code",
   "execution_count": 8,
   "metadata": {},
   "outputs": [],
   "source": [
    "processed_sentences_train = np.load(\"../data/processed/train/processed_sentences_train.npy\",allow_pickle=True)\n",
    "labels_pizza_train = np.load(\"../data/processed/train/words_entities_pizza_train.npy\",allow_pickle=True)\n",
    "labels_drink_train = np.load(\"../data/processed/train/words_entities_drink_train.npy\",allow_pickle=True)\n",
    "\n",
    "processed_sentences_dev = np.load(\"../data/processed/dev/processed_dev_sentences.npy\",allow_pickle=True)\n",
    "labels_pizza_dev = np.load(\"../data/processed/dev/words_entities_pizza_dev.npy\",allow_pickle=True)\n",
    "labels_drink_dev = np.load(\"../data/processed/dev/words_entities_drink_dev.npy\",allow_pickle=True)\n",
    "\n",
    "processed_sentences_test = np.load(\"../data/processed/test/processed_test_sentences.npy\",allow_pickle=True)\n",
    "labels_pizza_test = np.load(\"../data/processed/test/words_entities_pizza_test.npy\",allow_pickle=True)\n",
    "labels_drink_test = np.load(\"../data/processed/test/words_entities_drink_test.npy\",allow_pickle=True)"
   ]
  },
  {
   "cell_type": "code",
   "execution_count": 10,
   "metadata": {},
   "outputs": [],
   "source": [
    "entity_words_pizza = extract_unique_words(np.concat([processed_sentences_train,processed_sentences_dev,processed_sentences_test],axis=0),np.concat([labels_pizza_train,labels_pizza_dev,labels_pizza_test],axis=0))\n",
    "entity_words_drink = extract_unique_words(np.concat([processed_sentences_train,processed_sentences_dev,processed_sentences_test],axis=0),np.concat([labels_drink_train,labels_drink_dev,labels_drink_test],axis=0))"
   ]
  },
  {
   "cell_type": "code",
   "execution_count": 15,
   "metadata": {},
   "outputs": [],
   "source": [
    "np.save(\"../data/processed/entity_words_pizza.npy\", entity_words_pizza)\n",
    "np.save(\"../data/processed/entity_words_drink.npy\", entity_words_drink)"
   ]
  },
  {
   "cell_type": "code",
   "execution_count": null,
   "metadata": {},
   "outputs": [],
   "source": []
  }
 ],
 "metadata": {
  "kernelspec": {
   "display_name": "venv",
   "language": "python",
   "name": "python3"
  },
  "language_info": {
   "codemirror_mode": {
    "name": "ipython",
    "version": 3
   },
   "file_extension": ".py",
   "mimetype": "text/x-python",
   "name": "python",
   "nbconvert_exporter": "python",
   "pygments_lexer": "ipython3",
   "version": "3.12.3"
  }
 },
 "nbformat": 4,
 "nbformat_minor": 2
}
