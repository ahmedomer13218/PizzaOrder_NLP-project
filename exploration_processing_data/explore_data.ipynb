{
 "cells": [
  {
   "cell_type": "code",
   "execution_count": 1,
   "metadata": {},
   "outputs": [
    {
     "name": "stderr",
     "output_type": "stream",
     "text": [
      "2024-12-18 15:48:11.684484: E external/local_xla/xla/stream_executor/cuda/cuda_fft.cc:477] Unable to register cuFFT factory: Attempting to register factory for plugin cuFFT when one has already been registered\n",
      "WARNING: All log messages before absl::InitializeLog() is called are written to STDERR\n",
      "E0000 00:00:1734529691.697757    9634 cuda_dnn.cc:8310] Unable to register cuDNN factory: Attempting to register factory for plugin cuDNN when one has already been registered\n",
      "E0000 00:00:1734529691.701642    9634 cuda_blas.cc:1418] Unable to register cuBLAS factory: Attempting to register factory for plugin cuBLAS when one has already been registered\n",
      "2024-12-18 15:48:11.716021: I tensorflow/core/platform/cpu_feature_guard.cc:210] This TensorFlow binary is optimized to use available CPU instructions in performance-critical operations.\n",
      "To enable the following instructions: AVX2 FMA, in other operations, rebuild TensorFlow with the appropriate compiler flags.\n"
     ]
    }
   ],
   "source": [
    "import tensorflow as tf\n",
    "import json\n",
    "import numpy as np\n",
    "import re\n",
    "from typing import Literal, Union\n",
    "from tqdm import tqdm"
   ]
  },
  {
   "cell_type": "code",
   "execution_count": 2,
   "metadata": {},
   "outputs": [],
   "source": [
    "punctuation = re.compile(r\"[^\\w\\s-]\")\n",
    "def preprocess_text(text):\n",
    "    text = tf.strings.strip(text) # leading/trailing whitespace removal\n",
    "    text = tf.strings.lower(text)\n",
    "    text = punctuation.sub(\"\", text.numpy().decode('utf-8')) # punctuation removal\n",
    "    return text"
   ]
  },
  {
   "cell_type": "code",
   "execution_count": 3,
   "metadata": {},
   "outputs": [],
   "source": [
    "TRAIN_PATH = '../data/raw/PIZZA_train.json'\n",
    "DEV_PATH = '../data/raw/PIZZA_dev.json'\n",
    "TEST_PATH = '../data/raw/PIZZA_test.json'\n",
    "\n",
    "def load_data(file_path,type: Literal['train', 'dev', 'test']):\n",
    "    if type == 'train':\n",
    "        data_train = []\n",
    "        with open(TRAIN_PATH, 'r') as f:\n",
    "            for line in f:\n",
    "                data_train.append(json.loads(line))\n",
    "        return data_train\n",
    "    elif type == 'dev':\n",
    "        with open(DEV_PATH, 'r') as file:\n",
    "            data_dev = json.load(file)\n",
    "        return data_dev\n",
    "    elif type == 'test':\n",
    "        data_test = []\n",
    "        with open(TEST_PATH, 'r') as f:\n",
    "            for line in f:\n",
    "                data_test.append(json.loads(line))\n",
    "        return data_test\n",
    "    else:\n",
    "        raise ValueError('Invalid type')\n"
   ]
  },
  {
   "cell_type": "code",
   "execution_count": 8,
   "metadata": {},
   "outputs": [
    {
     "name": "stdout",
     "output_type": "stream",
     "text": [
      "Train data: 2456446\n",
      "Dev data: 348\n",
      "Test data: 1357\n"
     ]
    }
   ],
   "source": [
    "# train_data = load_data(TRAIN_PATH,'train')\n",
    "# dev_data = load_data(DEV_PATH,'dev')\n",
    "# test_data = load_data(TEST_PATH,'test')\n",
    "# print(f\"Train data: {len(train_data)}\")\n",
    "# print(f\"Dev data: {len(dev_data)}\")\n",
    "# print(f\"Test data: {len(test_data)}\")"
   ]
  },
  {
   "cell_type": "code",
   "execution_count": 4,
   "metadata": {},
   "outputs": [],
   "source": [
    "def extract_text(data,type: Literal['train', 'dev', 'test']):\n",
    "    if type =='train':\n",
    "        return data['train.SRC'], data['train.EXR'], data['train.TOP'], data['train.TOP-DECOUPLED']\n",
    "    elif type == 'dev':\n",
    "        return data['dev.SRC'], data['dev.EXR'], data['dev.TOP'], data['dev.PCFG_ERR']\n",
    "    elif type == 'test':\n",
    "        return data['test.SRC'], data['test.EXR'], data['test.TOP'], data['test.PCFG_ERR']\n",
    "    else:\n",
    "        raise ValueError('Invalid type')   "
   ]
  },
  {
   "cell_type": "code",
   "execution_count": 5,
   "metadata": {},
   "outputs": [],
   "source": [
    "sentences_train, explanations_train, topics_train, decoupled_topics_train=map(np.array, zip(*[extract_text(data,'train') for data in load_data(TRAIN_PATH,'train')]))\n",
    "sentences_dev, explanations_dev, topics_dev, decoupled_topics_dev=map(np.array, zip(*[extract_text(data,'dev') for data in load_data(DEV_PATH,'dev')]))\n",
    "sentences_test, explanations_test, topics_test, decoupled_topics_test=map(np.array, zip(*[extract_text(data,'test') for data in load_data(TEST_PATH,'test')]))"
   ]
  },
  {
   "cell_type": "code",
   "execution_count": 6,
   "metadata": {},
   "outputs": [
    {
     "name": "stderr",
     "output_type": "stream",
     "text": [
      "Processing Train Sentences:   0%|          | 0/2456446 [00:00<?, ?it/s]I0000 00:00:1734529741.160042    9634 gpu_device.cc:2022] Created device /job:localhost/replica:0/task:0/device:GPU:0 with 4273 MB memory:  -> device: 0, name: NVIDIA GeForce RTX 3060 Laptop GPU, pci bus id: 0000:01:00.0, compute capability: 8.6\n",
      "Processing Train Sentences: 100%|██████████| 2456446/2456446 [04:57<00:00, 8253.95it/s]\n"
     ]
    }
   ],
   "source": [
    "processed_sentences_train = [\n",
    "    preprocess_text(sentence) for sentence in tqdm(sentences_train, desc=\"Processing Train Sentences\")\n",
    "]\n",
    "processed_sentences_train = np.array(processed_sentences_train)"
   ]
  },
  {
   "cell_type": "code",
   "execution_count": 7,
   "metadata": {},
   "outputs": [],
   "source": [
    "np.save('../data/processed/train/processed_sentences_train.npy', processed_sentences_train)"
   ]
  },
  {
   "cell_type": "code",
   "execution_count": 8,
   "metadata": {},
   "outputs": [
    {
     "name": "stderr",
     "output_type": "stream",
     "text": [
      "Processing Dev Sentences: 100%|██████████| 348/348 [00:00<00:00, 7785.00it/s]\n"
     ]
    }
   ],
   "source": [
    "processed_dev_sentences = [\n",
    "    preprocess_text(sentence) for sentence in tqdm(sentences_dev, desc=\"Processing Dev Sentences\")\n",
    "]\n",
    "processed_dev_sentences = np.array(processed_dev_sentences)"
   ]
  },
  {
   "cell_type": "code",
   "execution_count": 9,
   "metadata": {},
   "outputs": [],
   "source": [
    "np.save('../data/processed/dev/processed_dev_sentences.npy', processed_dev_sentences)"
   ]
  },
  {
   "cell_type": "code",
   "execution_count": 10,
   "metadata": {},
   "outputs": [
    {
     "name": "stderr",
     "output_type": "stream",
     "text": [
      "Processing Test Sentences: 100%|██████████| 1357/1357 [00:00<00:00, 7603.09it/s]\n"
     ]
    }
   ],
   "source": [
    "processed_test_sentences = [\n",
    "    preprocess_text(sentence) for sentence in tqdm(sentences_test, desc=\"Processing Test Sentences\")\n",
    "]\n",
    "processed_test_sentences = np.array(processed_test_sentences)"
   ]
  },
  {
   "cell_type": "code",
   "execution_count": 11,
   "metadata": {},
   "outputs": [],
   "source": [
    "np.save('../data/processed/test/processed_test_sentences.npy', processed_test_sentences)"
   ]
  },
  {
   "cell_type": "code",
   "execution_count": null,
   "metadata": {},
   "outputs": [],
   "source": []
  }
 ],
 "metadata": {
  "kernelspec": {
   "display_name": "venv",
   "language": "python",
   "name": "python3"
  },
  "language_info": {
   "codemirror_mode": {
    "name": "ipython",
    "version": 3
   },
   "file_extension": ".py",
   "mimetype": "text/x-python",
   "name": "python",
   "nbconvert_exporter": "python",
   "pygments_lexer": "ipython3",
   "version": "3.12.3"
  }
 },
 "nbformat": 4,
 "nbformat_minor": 2
}
