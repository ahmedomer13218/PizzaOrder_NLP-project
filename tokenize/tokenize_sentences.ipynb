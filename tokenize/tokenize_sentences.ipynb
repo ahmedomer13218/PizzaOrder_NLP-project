{
 "cells": [
  {
   "cell_type": "code",
   "execution_count": 1,
   "metadata": {},
   "outputs": [
    {
     "name": "stderr",
     "output_type": "stream",
     "text": [
      "d:\\CMP1Materials\\Forth\\First\\NLP\\Project\\dataset\\.env\\Lib\\site-packages\\tqdm\\auto.py:21: TqdmWarning: IProgress not found. Please update jupyter and ipywidgets. See https://ipywidgets.readthedocs.io/en/stable/user_install.html\n",
      "  from .autonotebook import tqdm as notebook_tqdm\n"
     ]
    }
   ],
   "source": [
    "from transformers import BertTokenizer\n",
    "import numpy as np\n",
    "from tqdm import tqdm\n",
    "import tensorflow as tf\n",
    "\n",
    "import sys\n",
    "sys.path.append(\"..\")"
   ]
  },
  {
   "cell_type": "code",
   "execution_count": 2,
   "metadata": {},
   "outputs": [],
   "source": [
    "from helper_functions import prepare_data,padding_labels"
   ]
  },
  {
   "cell_type": "code",
   "execution_count": 3,
   "metadata": {},
   "outputs": [],
   "source": [
    "processed_sentences_train = np.load('../data/processed/train/processed_sentences_train.npy', allow_pickle=True)\n",
    "# processed_sentences_dev = np.load('../data/processed/dev/processed_dev_sentences.npy', allow_pickle=True)\n",
    "# processed_sentences_test = np.load('../data/processed/test/processed_test_sentences.npy', allow_pickle=True)\n"
   ]
  },
  {
   "cell_type": "code",
   "execution_count": 4,
   "metadata": {},
   "outputs": [],
   "source": [
    "# words_entities_pizza_train = np.load('../data/processed/train/words_entities_pizza_train.npy', allow_pickle=True)\n",
    "words_entities_pizza_dev = np.load('../data/processed/dev/words_entities_pizza_dev.npy', allow_pickle=True)\n",
    "words_entities_pizza_test = np.load('../data/processed/test/words_entities_pizza_test.npy', allow_pickle=True)"
   ]
  },
  {
   "cell_type": "code",
   "execution_count": 5,
   "metadata": {},
   "outputs": [],
   "source": [
    "# words_entities_drink_train = np.load('../data/processed/train/words_entities_drink_train.npy', allow_pickle=True)\n",
    "words_entities_drink_dev = np.load('../data/processed/dev/words_entities_drink_dev.npy', allow_pickle=True)\n",
    "words_entities_drink_test = np.load('../data/processed/test/words_entities_drink_test.npy', allow_pickle=True)\n"
   ]
  },
  {
   "cell_type": "code",
   "execution_count": 4,
   "metadata": {},
   "outputs": [],
   "source": [
    "words_entities_train_second = np.load('../data/processed/train/words_entities_train_second.npy', allow_pickle=True)\n",
    "# words_entities_dev_second = np.load('../data/processed/dev/words_entities_dev_second.npy', allow_pickle=True)\n",
    "# words_entities_test_second = np.load('../data/processed/test/words_entities_test_second.npy', allow_pickle=True)\n"
   ]
  },
  {
   "cell_type": "code",
   "execution_count": 5,
   "metadata": {},
   "outputs": [],
   "source": [
    "tokenizer = BertTokenizer.from_pretrained(\"bert-base-uncased\")"
   ]
  },
  {
   "cell_type": "code",
   "execution_count": 4,
   "metadata": {},
   "outputs": [],
   "source": [
    "final_negated_entities_drink = np.load('../data/processed/final_negated_entities_drink.npy', allow_pickle=True)\n",
    "final_negated_entities_pizza = np.load('../data/processed/final_negated_entities_pizza.npy', allow_pickle=True)"
   ]
  },
  {
   "cell_type": "code",
   "execution_count": 6,
   "metadata": {},
   "outputs": [],
   "source": [
    "final_negated_entities_second = ['PIZZAORDER', 'DRINKORDER']"
   ]
  },
  {
   "cell_type": "code",
   "execution_count": 8,
   "metadata": {},
   "outputs": [],
   "source": [
    "entity_labels_drink = [['B-'+entity, 'I-'+entity] for entity in final_negated_entities_drink]\n",
    "entity_labels_drink = [label for sublist in entity_labels_drink for label in sublist]\n",
    "np.save('../data/processed/entity_labels_drink.npy', entity_labels_drink)"
   ]
  },
  {
   "cell_type": "code",
   "execution_count": 5,
   "metadata": {},
   "outputs": [],
   "source": [
    "entity_labels_pizza = [['B-'+entity, 'I-'+entity] for entity in final_negated_entities_pizza]\n",
    "entity_labels_pizza = [label for sublist in entity_labels_pizza for label in sublist]\n",
    "np.save('../data/processed/entity_labels_pizza.npy', entity_labels_pizza)#this has been overwritten TODO"
   ]
  },
  {
   "cell_type": "code",
   "execution_count": 7,
   "metadata": {},
   "outputs": [],
   "source": [
    "entity_labels_second = [['B-'+entity, 'I-'+entity] for entity in final_negated_entities_second]\n",
    "entity_labels_second = [label for sublist in entity_labels_second for label in sublist]\n",
    "np.save('../data/processed/entity_labels_second.npy', entity_labels_second)"
   ]
  },
  {
   "cell_type": "code",
   "execution_count": 10,
   "metadata": {},
   "outputs": [
    {
     "data": {
      "text/plain": [
       "{'B-SIZE': 1,\n",
       " 'I-SIZE': 2,\n",
       " 'B-VOLUME': 3,\n",
       " 'I-VOLUME': 4,\n",
       " 'B-NOT_DRINKTYPE': 5,\n",
       " 'I-NOT_DRINKTYPE': 6,\n",
       " 'B-NOT_NUMBER': 7,\n",
       " 'I-NOT_NUMBER': 8,\n",
       " 'B-NOT_CONTAINERTYPE': 9,\n",
       " 'I-NOT_CONTAINERTYPE': 10,\n",
       " 'B-CONTAINERTYPE': 11,\n",
       " 'I-CONTAINERTYPE': 12,\n",
       " 'B-NOT_VOLUME': 13,\n",
       " 'I-NOT_VOLUME': 14,\n",
       " 'B-NUMBER': 15,\n",
       " 'I-NUMBER': 16,\n",
       " 'B-DRINKTYPE': 17,\n",
       " 'I-DRINKTYPE': 18,\n",
       " 'B-NOT_SIZE': 19,\n",
       " 'I-NOT_SIZE': 20,\n",
       " '0': 0,\n",
       " 'O': 0}"
      ]
     },
     "execution_count": 10,
     "metadata": {},
     "output_type": "execute_result"
    }
   ],
   "source": [
    "entities_id_drink = {e: i+1 for i, e in enumerate(entity_labels_drink)}\n",
    "entities_id_drink['0']=0\n",
    "entities_id_drink['O']=0\n",
    "entities_id_drink"
   ]
  },
  {
   "cell_type": "code",
   "execution_count": 11,
   "metadata": {},
   "outputs": [
    {
     "data": {
      "text/plain": [
       "{'B-SIZE': 1,\n",
       " 'I-SIZE': 2,\n",
       " 'B-NOT_STYLE': 3,\n",
       " 'I-NOT_STYLE': 4,\n",
       " 'B-STYLE': 5,\n",
       " 'I-STYLE': 6,\n",
       " 'B-NOT_NUMBER': 7,\n",
       " 'I-NOT_NUMBER': 8,\n",
       " 'B-QUANTITY': 9,\n",
       " 'I-QUANTITY': 10,\n",
       " 'B-NOT_TOPPING': 11,\n",
       " 'I-NOT_TOPPING': 12,\n",
       " 'B-NUMBER': 13,\n",
       " 'I-NUMBER': 14,\n",
       " 'B-TOPPING': 15,\n",
       " 'I-TOPPING': 16,\n",
       " 'B-NOT_QUANTITY': 17,\n",
       " 'I-NOT_QUANTITY': 18,\n",
       " 'B-NOT_SIZE': 19,\n",
       " 'I-NOT_SIZE': 20,\n",
       " '0': 0,\n",
       " 'O': 0}"
      ]
     },
     "execution_count": 11,
     "metadata": {},
     "output_type": "execute_result"
    }
   ],
   "source": [
    "entities_id_pizza = {e: i+1 for i, e in enumerate(entity_labels_pizza)}\n",
    "entities_id_pizza['0']=0\n",
    "entities_id_pizza['O']=0\n",
    "entities_id_pizza"
   ]
  },
  {
   "cell_type": "code",
   "execution_count": 8,
   "metadata": {},
   "outputs": [
    {
     "data": {
      "text/plain": [
       "{'B-PIZZAORDER': 1,\n",
       " 'I-PIZZAORDER': 2,\n",
       " 'B-DRINKORDER': 3,\n",
       " 'I-DRINKORDER': 4,\n",
       " '0': 0,\n",
       " 'O': 0}"
      ]
     },
     "execution_count": 8,
     "metadata": {},
     "output_type": "execute_result"
    }
   ],
   "source": [
    "entities_id_second = {e: i+1 for i, e in enumerate(entity_labels_second)}\n",
    "entities_id_second['0']=0\n",
    "entities_id_second['O']=0\n",
    "entities_id_second"
   ]
  },
  {
   "cell_type": "code",
   "execution_count": 12,
   "metadata": {},
   "outputs": [
    {
     "ename": "NameError",
     "evalue": "name 'words_entities_drink_train' is not defined",
     "output_type": "error",
     "traceback": [
      "\u001b[0;31m---------------------------------------------------------------------------\u001b[0m",
      "\u001b[0;31mNameError\u001b[0m                                 Traceback (most recent call last)",
      "Cell \u001b[0;32mIn[12], line 1\u001b[0m\n\u001b[0;32m----> 1\u001b[0m labels_train_drink\u001b[38;5;241m=\u001b[39m[[\u001b[38;5;124m'\u001b[39m\u001b[38;5;124m0\u001b[39m\u001b[38;5;124m'\u001b[39m]\u001b[38;5;241m+\u001b[39m[entities_id_drink[i] \u001b[38;5;28;01mfor\u001b[39;00m i \u001b[38;5;129;01min\u001b[39;00m tq]\u001b[38;5;241m+\u001b[39m[\u001b[38;5;124m'\u001b[39m\u001b[38;5;124m0\u001b[39m\u001b[38;5;124m'\u001b[39m] \u001b[38;5;28;01mfor\u001b[39;00m tq \u001b[38;5;129;01min\u001b[39;00m \u001b[43mwords_entities_drink_train\u001b[49m]\n\u001b[1;32m      2\u001b[0m padded_labels_drink_train \u001b[38;5;241m=\u001b[39m padding_labels(labels_train_drink, \u001b[38;5;241m30\u001b[39m)\n\u001b[1;32m      3\u001b[0m padded_labels_drink_train\u001b[38;5;241m=\u001b[39mnp\u001b[38;5;241m.\u001b[39marray(padded_labels_drink_train, dtype\u001b[38;5;241m=\u001b[39mnp\u001b[38;5;241m.\u001b[39mint32)\n",
      "\u001b[0;31mNameError\u001b[0m: name 'words_entities_drink_train' is not defined"
     ]
    }
   ],
   "source": [
    "labels_train_drink=[['0']+[entities_id_drink[i] for i in tq]+['0'] for tq in words_entities_drink_train]\n",
    "padded_labels_drink_train = padding_labels(labels_train_drink, 30)\n",
    "padded_labels_drink_train=np.array(padded_labels_drink_train, dtype=np.int32)"
   ]
  },
  {
   "cell_type": "code",
   "execution_count": 13,
   "metadata": {},
   "outputs": [],
   "source": [
    "labels_train_dev=[['0']+[entities_id_drink[i] for i in tq]+['0'] for tq in words_entities_drink_dev]\n",
    "padded_labels_drink_dev = padding_labels(labels_train_dev, 30)\n",
    "padded_labels_drink_dev=np.array(padded_labels_drink_dev, dtype=np.int32)"
   ]
  },
  {
   "cell_type": "code",
   "execution_count": 14,
   "metadata": {},
   "outputs": [],
   "source": [
    "labels_train_test=[['0']+[entities_id_drink[i] for i in tq]+['0'] for tq in words_entities_drink_test]\n",
    "padded_labels_drink_test = padding_labels(labels_train_test, 30)\n",
    "padded_labels_drink_test=np.array(padded_labels_drink_test, dtype=np.int32)"
   ]
  },
  {
   "cell_type": "code",
   "execution_count": 9,
   "metadata": {},
   "outputs": [],
   "source": [
    "labels_train_second=[['0']+[entities_id_second[i] for i in tq]+['0'] for tq in words_entities_train_second]\n",
    "padded_labels_second_train = padding_labels(labels_train_second, 30)\n",
    "padded_labels_second_train=np.array(padded_labels_second_train, dtype=np.int32)"
   ]
  },
  {
   "cell_type": "code",
   "execution_count": 17,
   "metadata": {},
   "outputs": [],
   "source": [
    "labels_train_dev_second=[['0']+[entities_id_second[i] for i in tq]+['0'] for tq in words_entities_dev_second]\n",
    "padded_labels_dev_second = padding_labels(labels_train_dev_second, 30)\n",
    "padded_labels_dev_second=np.array(padded_labels_dev_second, dtype=np.int32)"
   ]
  },
  {
   "cell_type": "code",
   "execution_count": 18,
   "metadata": {},
   "outputs": [],
   "source": [
    "labels_train_test_second=[['0']+[entities_id_second[i] for i in tq]+['0'] for tq in words_entities_test_second]\n",
    "padded_labels_test_second = padding_labels(labels_train_test_second, 30)\n",
    "padded_labels_test_second=np.array(padded_labels_test_second, dtype=np.int32)"
   ]
  },
  {
   "cell_type": "code",
   "execution_count": null,
   "metadata": {},
   "outputs": [
    {
     "name": "stderr",
     "output_type": "stream",
     "text": [
      "I0000 00:00:1734548020.310596   73236 gpu_device.cc:2022] Created device /job:localhost/replica:0/task:0/device:GPU:0 with 4273 MB memory:  -> device: 0, name: NVIDIA GeForce RTX 3060 Laptop GPU, pci bus id: 0000:01:00.0, compute capability: 8.6\n",
      "Tokenizing sentences: 100%|██████████| 1000000/1000000 [04:50<00:00, 3439.75it/s]\n"
     ]
    }
   ],
   "source": [
    "input_ids_drink_train, attention_masks_drink_train, padded_labels_drink_train = prepare_data(processed_sentences_train[:1000000], padded_labels_drink_train[:1000000], tokenizer, 30)"
   ]
  },
  {
   "cell_type": "code",
   "execution_count": 18,
   "metadata": {},
   "outputs": [],
   "source": [
    "np.save('../data/processed/train/input_ids_drink_train1.npy', input_ids_drink_train)\n",
    "np.save('../data/processed/train/attention_masks_drink_train1.npy', attention_masks_drink_train)\n",
    "np.save('../data/processed/train/padded_labels_drink_train1.npy', padded_labels_drink_train)"
   ]
  },
  {
   "cell_type": "code",
   "execution_count": 11,
   "metadata": {},
   "outputs": [
    {
     "name": "stderr",
     "output_type": "stream",
     "text": [
      "I0000 00:00:1734645713.194444   51736 gpu_device.cc:2022] Created device /job:localhost/replica:0/task:0/device:GPU:0 with 4273 MB memory:  -> device: 0, name: NVIDIA GeForce RTX 3060 Laptop GPU, pci bus id: 0000:01:00.0, compute capability: 8.6\n",
      "Tokenizing sentences: 100%|██████████| 1000000/1000000 [04:32<00:00, 3664.22it/s]\n"
     ]
    }
   ],
   "source": [
    "input_ids_second_train, attention_masks_second_train, padded_labels_second_train = prepare_data(processed_sentences_train[:1000000], padded_labels_second_train[:1000000], tokenizer, 30)"
   ]
  },
  {
   "cell_type": "code",
   "execution_count": 12,
   "metadata": {},
   "outputs": [],
   "source": [
    "np.save('../data/processed/train/input_ids_train_second1.npy', input_ids_second_train)\n",
    "np.save('../data/processed/train/attention_masks_train_second1.npy', attention_masks_second_train)\n",
    "np.save('../data/processed/train/padded_labels_train_second1.npy', padded_labels_second_train)"
   ]
  },
  {
   "cell_type": "code",
   "execution_count": 13,
   "metadata": {},
   "outputs": [
    {
     "name": "stderr",
     "output_type": "stream",
     "text": [
      "I0000 00:00:1734548597.613315   78118 gpu_device.cc:2022] Created device /job:localhost/replica:0/task:0/device:GPU:0 with 4273 MB memory:  -> device: 0, name: NVIDIA GeForce RTX 3060 Laptop GPU, pci bus id: 0000:01:00.0, compute capability: 8.6\n",
      "Tokenizing sentences: 100%|██████████| 1000000/1000000 [05:18<00:00, 3138.57it/s]\n"
     ]
    }
   ],
   "source": [
    "input_ids_drink_train, attention_masks_drink_train, padded_labels_drink_train = prepare_data(processed_sentences_train[1000000:2000000], padded_labels_drink_train[1000000:2000000], tokenizer, 30)"
   ]
  },
  {
   "cell_type": "code",
   "execution_count": 14,
   "metadata": {},
   "outputs": [],
   "source": [
    "np.save('../data/processed/train/input_ids_drink_train2.npy', input_ids_drink_train)\n",
    "np.save('../data/processed/train/attention_masks_drink_train2.npy', attention_masks_drink_train)\n",
    "np.save('../data/processed/train/padded_labels_drink_train2.npy', padded_labels_drink_train)"
   ]
  },
  {
   "cell_type": "code",
   "execution_count": 10,
   "metadata": {},
   "outputs": [
    {
     "name": "stderr",
     "output_type": "stream",
     "text": [
      "I0000 00:00:1734646480.053449   52547 gpu_device.cc:2022] Created device /job:localhost/replica:0/task:0/device:GPU:0 with 4273 MB memory:  -> device: 0, name: NVIDIA GeForce RTX 3060 Laptop GPU, pci bus id: 0000:01:00.0, compute capability: 8.6\n",
      "Tokenizing sentences: 100%|██████████| 1000000/1000000 [05:04<00:00, 3281.86it/s]\n"
     ]
    }
   ],
   "source": [
    "input_ids_second_train, attention_masks_second_train, padded_labels_second_train = prepare_data(processed_sentences_train[1000000:2000000], padded_labels_second_train[1000000:2000000], tokenizer, 30)"
   ]
  },
  {
   "cell_type": "code",
   "execution_count": 11,
   "metadata": {},
   "outputs": [],
   "source": [
    "np.save('../data/processed/train/input_ids_train_second2.npy', input_ids_second_train)\n",
    "np.save('../data/processed/train/attention_masks_train_second2.npy', attention_masks_second_train)\n",
    "np.save('../data/processed/train/padded_labels_train_second2.npy', padded_labels_second_train)"
   ]
  },
  {
   "cell_type": "code",
   "execution_count": 15,
   "metadata": {},
   "outputs": [
    {
     "name": "stderr",
     "output_type": "stream",
     "text": [
      "I0000 00:00:1734549203.894491   78794 gpu_device.cc:2022] Created device /job:localhost/replica:0/task:0/device:GPU:0 with 4273 MB memory:  -> device: 0, name: NVIDIA GeForce RTX 3060 Laptop GPU, pci bus id: 0000:01:00.0, compute capability: 8.6\n",
      "Tokenizing sentences: 100%|██████████| 456446/456446 [02:21<00:00, 3232.19it/s]\n"
     ]
    }
   ],
   "source": [
    "input_ids_drink_train, attention_masks_drink_train, padded_labels_drink_train = prepare_data(processed_sentences_train[2000000:], padded_labels_drink_train[2000000:], tokenizer, 30)"
   ]
  },
  {
   "cell_type": "code",
   "execution_count": 16,
   "metadata": {},
   "outputs": [],
   "source": [
    "np.save('../data/processed/train/input_ids_drink_train3.npy', input_ids_drink_train)\n",
    "np.save('../data/processed/train/attention_masks_drink_train3.npy', attention_masks_drink_train)\n",
    "np.save('../data/processed/train/padded_labels_drink_train3.npy', padded_labels_drink_train)"
   ]
  },
  {
   "cell_type": "code",
   "execution_count": 10,
   "metadata": {},
   "outputs": [
    {
     "name": "stderr",
     "output_type": "stream",
     "text": [
      "I0000 00:00:1734647053.034698   52758 gpu_device.cc:2022] Created device /job:localhost/replica:0/task:0/device:GPU:0 with 4273 MB memory:  -> device: 0, name: NVIDIA GeForce RTX 3060 Laptop GPU, pci bus id: 0000:01:00.0, compute capability: 8.6\n",
      "Tokenizing sentences: 100%|██████████| 456446/456446 [02:14<00:00, 3404.17it/s]\n"
     ]
    }
   ],
   "source": [
    "input_ids_second_train, attention_masks_second_train, padded_labels_second_train = prepare_data(processed_sentences_train[2000000:], padded_labels_second_train[2000000:], tokenizer, 30)"
   ]
  },
  {
   "cell_type": "code",
   "execution_count": 11,
   "metadata": {},
   "outputs": [],
   "source": [
    "np.save('../data/processed/train/input_ids_train_second3.npy', input_ids_second_train)\n",
    "np.save('../data/processed/train/attention_masks_train_second3.npy', attention_masks_second_train)\n",
    "np.save('../data/processed/train/padded_labels_train_second3.npy', padded_labels_second_train)"
   ]
  },
  {
   "cell_type": "code",
   "execution_count": 3,
   "metadata": {},
   "outputs": [],
   "source": [
    "input_ids_train_position=np.concat([np.load('../data/processed/train/input_ids_drink_train1.npy'), np.load('../data/processed/train/input_ids_drink_train2.npy'),np.load('../data/processed/train/input_ids_drink_train3.npy')], axis=0)\n",
    "attention_masks_train_position=np.concat([np.load('../data/processed/train/attention_masks_drink_train1.npy'), np.load('../data/processed/train/attention_masks_drink_train2.npy'),np.load('../data/processed/train/attention_masks_drink_train3.npy')], axis=0)\n",
    "padded_labels_train_position=np.concat([np.load('../data/processed/train/padded_labels_drink_train1.npy'), np.load('../data/processed/train/padded_labels_drink_train2.npy'),np.load('../data/processed/train/padded_labels_drink_train3.npy')], axis=0)\n",
    "\n",
    "np.save('../data/processed/train/input_ids_drink_train.npy', input_ids_train_position)\n",
    "np.save('../data/processed/train/attention_masks_drink_train.npy', attention_masks_train_position)\n",
    "np.save('../data/processed/train/padded_labels_drink_train.npy', padded_labels_train_position)"
   ]
  },
  {
   "cell_type": "code",
   "execution_count": 2,
   "metadata": {},
   "outputs": [],
   "source": [
    "input_ids_train_position=np.concat([np.load('../data/processed/train/input_ids_train_second1.npy'), np.load('../data/processed/train/input_ids_train_second2.npy'),np.load('../data/processed/train/input_ids_train_second3.npy')], axis=0)\n",
    "attention_masks_train_position=np.concat([np.load('../data/processed/train/attention_masks_train_second1.npy'), np.load('../data/processed/train/attention_masks_train_second2.npy'),np.load('../data/processed/train/attention_masks_train_second3.npy')], axis=0)\n",
    "padded_labels_train_position=np.concat([np.load('../data/processed/train/padded_labels_train_second1.npy'), np.load('../data/processed/train/padded_labels_train_second2.npy'),np.load('../data/processed/train/padded_labels_train_second3.npy')], axis=0)\n",
    "\n",
    "np.save('../data/processed/train/input_ids_train_second.npy', input_ids_train_position)\n",
    "np.save('../data/processed/train/attention_masks_train_second.npy', attention_masks_train_position)\n",
    "np.save('../data/processed/train/padded_labels_train_second.npy', padded_labels_train_position)"
   ]
  },
  {
   "cell_type": "code",
   "execution_count": 11,
   "metadata": {},
   "outputs": [],
   "source": [
    "labels_train_pizza=[['0']+[entities_id_pizza[i] for i in tq]+['0'] for tq in words_entities_pizza_train]\n",
    "padded_labels_pizza_train = padding_labels(labels_train_pizza, 30)\n",
    "padded_labels_pizza_train=np.array(padded_labels_pizza_train, dtype=np.int32)"
   ]
  },
  {
   "cell_type": "code",
   "execution_count": 16,
   "metadata": {},
   "outputs": [],
   "source": [
    "labels_dev_pizza=[['0']+[entities_id_pizza[i] for i in tq]+['0'] for tq in words_entities_pizza_dev]\n",
    "padded_labels_pizza_dev = padding_labels(labels_dev_pizza, 30)\n",
    "padded_labels_pizza_dev=np.array(padded_labels_pizza_dev, dtype=np.int32)"
   ]
  },
  {
   "cell_type": "code",
   "execution_count": 17,
   "metadata": {},
   "outputs": [],
   "source": [
    "labels_test_pizza=[['0']+[entities_id_pizza[i] for i in tq]+['0'] for tq in words_entities_pizza_test]\n",
    "padded_labels_pizza_test = padding_labels(labels_test_pizza, 30)\n",
    "padded_labels_pizza_test=np.array(padded_labels_pizza_test, dtype=np.int32)"
   ]
  },
  {
   "cell_type": "code",
   "execution_count": 12,
   "metadata": {},
   "outputs": [
    {
     "name": "stderr",
     "output_type": "stream",
     "text": [
      "I0000 00:00:1734629955.776405    6393 gpu_device.cc:2022] Created device /job:localhost/replica:0/task:0/device:GPU:0 with 4273 MB memory:  -> device: 0, name: NVIDIA GeForce RTX 3060 Laptop GPU, pci bus id: 0000:01:00.0, compute capability: 8.6\n",
      "Tokenizing sentences: 100%|██████████| 1000000/1000000 [04:25<00:00, 3759.89it/s]\n"
     ]
    }
   ],
   "source": [
    "input_ids_pizza_train, attention_masks_pizza_train, padded_labels_pizza_train = prepare_data(processed_sentences_train[:1000000], padded_labels_pizza_train[:1000000], tokenizer, 30)"
   ]
  },
  {
   "cell_type": "code",
   "execution_count": 13,
   "metadata": {},
   "outputs": [],
   "source": [
    "np.save('../data/processed/train/input_ids_pizza_train1.npy', input_ids_pizza_train)\n",
    "np.save('../data/processed/train/attention_masks_pizza_train1.npy', attention_masks_pizza_train)\n",
    "np.save('../data/processed/train/padded_labels_pizza_train1.npy', padded_labels_pizza_train)"
   ]
  },
  {
   "cell_type": "code",
   "execution_count": 13,
   "metadata": {},
   "outputs": [
    {
     "name": "stderr",
     "output_type": "stream",
     "text": [
      "I0000 00:00:1734630977.170930    7785 gpu_device.cc:2022] Created device /job:localhost/replica:0/task:0/device:GPU:0 with 4273 MB memory:  -> device: 0, name: NVIDIA GeForce RTX 3060 Laptop GPU, pci bus id: 0000:01:00.0, compute capability: 8.6\n",
      "Tokenizing sentences: 100%|██████████| 1000000/1000000 [04:52<00:00, 3415.64it/s]\n"
     ]
    }
   ],
   "source": [
    "input_ids_pizza_train, attention_masks_pizza_train, padded_labels_pizza_train = prepare_data(processed_sentences_train[1000000:2000000], padded_labels_pizza_train[1000000:2000000], tokenizer, 30)"
   ]
  },
  {
   "cell_type": "code",
   "execution_count": 14,
   "metadata": {},
   "outputs": [],
   "source": [
    "np.save('../data/processed/train/input_ids_pizza_train2.npy', input_ids_pizza_train)\n",
    "np.save('../data/processed/train/attention_masks_pizza_train2.npy', attention_masks_pizza_train)\n",
    "np.save('../data/processed/train/padded_labels_pizza_train2.npy', padded_labels_pizza_train)"
   ]
  },
  {
   "cell_type": "code",
   "execution_count": 12,
   "metadata": {},
   "outputs": [
    {
     "name": "stderr",
     "output_type": "stream",
     "text": [
      "I0000 00:00:1734631550.851659    8458 gpu_device.cc:2022] Created device /job:localhost/replica:0/task:0/device:GPU:0 with 4273 MB memory:  -> device: 0, name: NVIDIA GeForce RTX 3060 Laptop GPU, pci bus id: 0000:01:00.0, compute capability: 8.6\n",
      "Tokenizing sentences: 100%|██████████| 456446/456446 [02:12<00:00, 3445.61it/s]\n"
     ]
    }
   ],
   "source": [
    "input_ids_pizza_train, attention_masks_pizza_train, padded_labels_pizza_train = prepare_data(processed_sentences_train[2000000:], padded_labels_pizza_train[2000000:], tokenizer, 30)"
   ]
  },
  {
   "cell_type": "code",
   "execution_count": 13,
   "metadata": {},
   "outputs": [],
   "source": [
    "np.save('../data/processed/train/input_ids_pizza_train3.npy', input_ids_pizza_train)\n",
    "np.save('../data/processed/train/attention_masks_pizza_train3.npy', attention_masks_pizza_train)\n",
    "np.save('../data/processed/train/padded_labels_pizza_train3.npy', padded_labels_pizza_train)"
   ]
  },
  {
   "cell_type": "code",
   "execution_count": 2,
   "metadata": {},
   "outputs": [],
   "source": [
    "input_ids_train_position=np.concat([np.load('../data/processed/train/input_ids_pizza_train1.npy'), np.load('../data/processed/train/input_ids_pizza_train2.npy'),np.load('../data/processed/train/input_ids_pizza_train3.npy')], axis=0)\n",
    "attention_masks_train_position=np.concat([np.load('../data/processed/train/attention_masks_pizza_train1.npy'), np.load('../data/processed/train/attention_masks_pizza_train2.npy'),np.load('../data/processed/train/attention_masks_pizza_train3.npy')], axis=0)\n",
    "padded_labels_train_position=np.concat([np.load('../data/processed/train/padded_labels_pizza_train1.npy'), np.load('../data/processed/train/padded_labels_pizza_train2.npy'),np.load('../data/processed/train/padded_labels_pizza_train3.npy')], axis=0)\n",
    "\n",
    "np.save('../data/processed/train/input_ids_pizza_train.npy', input_ids_train_position)\n",
    "np.save('../data/processed/train/attention_masks_pizza_train.npy', attention_masks_train_position)\n",
    "np.save('../data/processed/train/padded_labels_pizza_train.npy', padded_labels_train_position)"
   ]
  },
  {
   "cell_type": "code",
   "execution_count": 18,
   "metadata": {},
   "outputs": [
    {
     "name": "stderr",
     "output_type": "stream",
     "text": [
      "Tokenizing sentences: 100%|██████████| 348/348 [00:00<00:00, 3243.18it/s]\n",
      "Tokenizing sentences: 100%|██████████| 348/348 [00:00<00:00, 3285.71it/s]\n"
     ]
    }
   ],
   "source": [
    "input_ids_drink_dev, attention_masks_drink_dev, padded_labels_drink_dev = prepare_data(processed_sentences_dev, padded_labels_drink_dev, tokenizer, 30)\n",
    "input_ids_pizza_dev, attention_masks_pizza_dev, padded_labels_pizza_dev = prepare_data(processed_sentences_dev, padded_labels_pizza_dev, tokenizer, 30)\n",
    "\n",
    "np.save('../data/processed/dev/input_ids_drink_dev.npy', input_ids_drink_dev)\n",
    "np.save('../data/processed/dev/attention_masks_drink_dev.npy', attention_masks_drink_dev)\n",
    "np.save('../data/processed/dev/padded_labels_drink_dev.npy', padded_labels_drink_dev)\n",
    "\n",
    "np.save('../data/processed/dev/input_ids_pizza_dev.npy', input_ids_pizza_dev)\n",
    "np.save('../data/processed/dev/attention_masks_pizza_dev.npy', attention_masks_pizza_dev)\n",
    "np.save('../data/processed/dev/padded_labels_pizza_dev.npy', padded_labels_pizza_dev)\n"
   ]
  },
  {
   "cell_type": "code",
   "execution_count": 19,
   "metadata": {},
   "outputs": [
    {
     "name": "stderr",
     "output_type": "stream",
     "text": [
      "Tokenizing sentences: 100%|██████████| 1357/1357 [00:00<00:00, 3454.32it/s]\n",
      "Tokenizing sentences: 100%|██████████| 1357/1357 [00:00<00:00, 3438.96it/s]\n"
     ]
    }
   ],
   "source": [
    "input_ids_drink_test, attention_masks_drink_test, padded_labels_drink_test = prepare_data(processed_sentences_test, padded_labels_drink_test, tokenizer, 30)\n",
    "input_ids_pizza_test, attention_masks_pizza_test, padded_labels_pizza_test = prepare_data(processed_sentences_test, padded_labels_pizza_test, tokenizer, 30)\n",
    "\n",
    "np.save('../data/processed/test/input_ids_drink_test.npy', input_ids_drink_test)\n",
    "np.save('../data/processed/test/attention_masks_drink_test.npy', attention_masks_drink_test)\n",
    "np.save('../data/processed/test/padded_labels_drink_test.npy', padded_labels_drink_test)\n",
    "\n",
    "np.save('../data/processed/test/input_ids_pizza_test.npy', input_ids_pizza_test)\n",
    "np.save('../data/processed/test/attention_masks_pizza_test.npy', attention_masks_pizza_test)\n",
    "np.save('../data/processed/test/padded_labels_pizza_test.npy', padded_labels_pizza_test)"
   ]
  },
  {
   "cell_type": "code",
   "execution_count": 19,
   "metadata": {},
   "outputs": [
    {
     "name": "stderr",
     "output_type": "stream",
     "text": [
      "I0000 00:00:1734644820.925476   47942 gpu_device.cc:2022] Created device /job:localhost/replica:0/task:0/device:GPU:0 with 4273 MB memory:  -> device: 0, name: NVIDIA GeForce RTX 3060 Laptop GPU, pci bus id: 0000:01:00.0, compute capability: 8.6\n",
      "Tokenizing sentences:   0%|          | 0/348 [00:00<?, ?it/s]"
     ]
    },
    {
     "name": "stderr",
     "output_type": "stream",
     "text": [
      "Tokenizing sentences: 100%|██████████| 348/348 [00:00<00:00, 2840.12it/s]\n"
     ]
    }
   ],
   "source": [
    "input_ids_dev_second, attention_masks_dev_second, padded_labels_dev_second = prepare_data(processed_sentences_dev, padded_labels_dev_second, tokenizer, 30)\n",
    "\n",
    "np.save('../data/processed/dev/input_ids_dev_second.npy', input_ids_dev_second)\n",
    "np.save('../data/processed/dev/attention_masks_dev_second.npy', attention_masks_dev_second)\n",
    "np.save('../data/processed/dev/padded_labels_dev_second.npy', padded_labels_dev_second)"
   ]
  },
  {
   "cell_type": "code",
   "execution_count": 20,
   "metadata": {},
   "outputs": [
    {
     "name": "stderr",
     "output_type": "stream",
     "text": [
      "Tokenizing sentences: 100%|██████████| 1357/1357 [00:00<00:00, 3447.43it/s]\n"
     ]
    }
   ],
   "source": [
    "input_ids_test_second, attention_masks_test_second, padded_labels_test_second = prepare_data(processed_sentences_test, padded_labels_test_second, tokenizer, 30)\n",
    "\n",
    "np.save('../data/processed/test/input_ids_test_second.npy', input_ids_test_second)\n",
    "np.save('../data/processed/test/attention_masks_test_second.npy', attention_masks_test_second)\n",
    "np.save('../data/processed/test/padded_labels_test_second.npy', padded_labels_test_second)"
   ]
  },
  {
   "cell_type": "code",
   "execution_count": null,
   "metadata": {},
   "outputs": [],
   "source": []
  }
 ],
 "metadata": {
  "kernelspec": {
   "display_name": ".env",
   "language": "python",
   "name": "python3"
  },
  "language_info": {
   "codemirror_mode": {
    "name": "ipython",
    "version": 3
   },
   "file_extension": ".py",
   "mimetype": "text/x-python",
   "name": "python",
   "nbconvert_exporter": "python",
   "pygments_lexer": "ipython3",
   "version": "3.11.4"
  }
 },
 "nbformat": 4,
 "nbformat_minor": 2
}
