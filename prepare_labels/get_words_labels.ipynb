{
 "cells": [
  {
   "cell_type": "code",
   "execution_count": 1,
   "metadata": {},
   "outputs": [],
   "source": [
    "import json\n",
    "import numpy as np\n",
    "from tqdm import tqdm\n",
    "\n",
    "import sys\n",
    "sys.path.append(\"..\")\n"
   ]
  },
  {
   "cell_type": "code",
   "execution_count": 2,
   "metadata": {},
   "outputs": [],
   "source": [
    "from helper_functions import extract_text,load_data,apply_negation,get_entity"
   ]
  },
  {
   "cell_type": "code",
   "execution_count": 3,
   "metadata": {},
   "outputs": [],
   "source": [
    "TRAIN_PATH = '../data/raw/PIZZA_train.json'\n",
    "DEV_PATH = '../data/raw/PIZZA_dev.json'\n",
    "TEST_PATH = '../data/raw/PIZZA_test.json'"
   ]
  },
  {
   "cell_type": "code",
   "execution_count": 5,
   "metadata": {},
   "outputs": [],
   "source": [
    "_, explanations_train, topics_train, decoupled_topics_train=map(np.array, zip(*[extract_text(data,'train') for data in load_data(TRAIN_PATH,'train')]))\n",
    "_, explanations_dev, topics_dev, decoupled_topics_dev=map(np.array, zip(*[extract_text(data,'dev') for data in load_data(DEV_PATH,'dev')]))\n",
    "_, explanations_test, topics_test, decoupled_topics_test=map(np.array, zip(*[extract_text(data,'test') for data in load_data(TEST_PATH,'test')]))"
   ]
  },
  {
   "cell_type": "code",
   "execution_count": 6,
   "metadata": {},
   "outputs": [],
   "source": [
    "entities_dev = set([word[1:]\n",
    "               for t in topics_dev for word in t.split() if word.isupper()])\n",
    "\n",
    "entities_train = set([word[1:]\n",
    "               for t in topics_train for word in t.split() if word.isupper()])\n",
    "\n",
    "full_entities = entities_dev | entities_train\n",
    "\n",
    "enitities_exclude_not = full_entities - {'NOT'}\n",
    "\n",
    "negate_mapping = {}\n",
    "for entity in full_entities:\n",
    "    if entity != 'NOT':\n",
    "        negate_mapping[entity] = \"NOT_\" + entity"
   ]
  },
  {
   "cell_type": "code",
   "execution_count": 7,
   "metadata": {},
   "outputs": [],
   "source": [
    "negated_topics_train = np.vectorize(lambda x: apply_negation(x, negate_mapping,enitities_exclude_not))(topics_train)\n",
    "negated_topics_dev = np.vectorize(lambda x: apply_negation(x, negate_mapping,enitities_exclude_not))(topics_dev)\n",
    "negated_topics_test = np.vectorize(lambda x: apply_negation(x, negate_mapping,enitities_exclude_not))(topics_test)"
   ]
  },
  {
   "cell_type": "code",
   "execution_count": 8,
   "metadata": {},
   "outputs": [
    {
     "name": "stdout",
     "output_type": "stream",
     "text": [
      "{'SIZE', 'VOLUME', 'STYLE', 'QUANTITY', 'CONTAINERTYPE', 'NUMBER', 'TOPPING', 'DRINKTYPE'}\n"
     ]
    }
   ],
   "source": [
    "final_entities = full_entities.copy()\n",
    "final_entities.remove('NOT')\n",
    "final_entities.remove('COMPLEX_TOPPING')\n",
    "final_entities.remove('PIZZAORDER')\n",
    "final_entities.remove('DRINKORDER')\n",
    "final_entities.remove('ORDER')\n",
    "print(final_entities)"
   ]
  },
  {
   "cell_type": "code",
   "execution_count": 9,
   "metadata": {},
   "outputs": [
    {
     "name": "stdout",
     "output_type": "stream",
     "text": [
      "{'SIZE', 'STYLE', 'QUANTITY', 'NUMBER', 'TOPPING'}\n"
     ]
    }
   ],
   "source": [
    "pizza_entities = final_entities.copy()\n",
    "pizza_entities.remove('CONTAINERTYPE')\n",
    "pizza_entities.remove('DRINKTYPE')\n",
    "pizza_entities.remove('VOLUME')\n",
    "print(pizza_entities)"
   ]
  },
  {
   "cell_type": "code",
   "execution_count": 10,
   "metadata": {},
   "outputs": [
    {
     "name": "stdout",
     "output_type": "stream",
     "text": [
      "{'SIZE': 'NOT_SIZE', 'STYLE': 'NOT_STYLE', 'QUANTITY': 'NOT_QUANTITY', 'NUMBER': 'NOT_NUMBER', 'TOPPING': 'NOT_TOPPING'}\n"
     ]
    }
   ],
   "source": [
    "negate_mapping_pizza = {}\n",
    "for entity in pizza_entities:\n",
    "    if entity != 'NOT':        negate_mapping_pizza[entity] = \"NOT_\" + entity\n",
    "\n",
    "print(negate_mapping_pizza)"
   ]
  },
  {
   "cell_type": "code",
   "execution_count": 11,
   "metadata": {},
   "outputs": [
    {
     "name": "stdout",
     "output_type": "stream",
     "text": [
      "{'SIZE', 'VOLUME', 'CONTAINERTYPE', 'NUMBER', 'DRINKTYPE'}\n"
     ]
    }
   ],
   "source": [
    "drink_entities = final_entities.copy()\n",
    "drink_entities.remove('TOPPING')\n",
    "drink_entities.remove('STYLE')\n",
    "drink_entities.remove('QUANTITY')\n",
    "print(drink_entities)"
   ]
  },
  {
   "cell_type": "code",
   "execution_count": 12,
   "metadata": {},
   "outputs": [
    {
     "name": "stdout",
     "output_type": "stream",
     "text": [
      "{'SIZE': 'NOT_SIZE', 'VOLUME': 'NOT_VOLUME', 'CONTAINERTYPE': 'NOT_CONTAINERTYPE', 'NUMBER': 'NOT_NUMBER', 'DRINKTYPE': 'NOT_DRINKTYPE'}\n"
     ]
    }
   ],
   "source": [
    "negate_mapping_drink = {}\n",
    "for entity in drink_entities:\n",
    "    if entity != 'NOT':        negate_mapping_drink[entity] = \"NOT_\" + entity\n",
    "    \n",
    "print(negate_mapping_drink)"
   ]
  },
  {
   "cell_type": "code",
   "execution_count": 13,
   "metadata": {},
   "outputs": [
    {
     "name": "stdout",
     "output_type": "stream",
     "text": [
      "{'SIZE', 'NOT_STYLE', 'STYLE', 'NOT_NUMBER', 'QUANTITY', 'NOT_TOPPING', 'NUMBER', 'TOPPING', 'NOT_QUANTITY', 'NOT_SIZE'}\n",
      "{'SIZE', 'VOLUME', 'NOT_DRINKTYPE', 'NOT_NUMBER', 'NOT_CONTAINERTYPE', 'CONTAINERTYPE', 'NOT_VOLUME', 'NUMBER', 'DRINKTYPE', 'NOT_SIZE'}\n"
     ]
    }
   ],
   "source": [
    "final_negated_entities_pizza=pizza_entities|set(negate_mapping_pizza.values())\n",
    "final_negated_entities_drink=drink_entities|set(negate_mapping_drink.values())\n",
    "print(final_negated_entities_pizza)\n",
    "print(final_negated_entities_drink)"
   ]
  },
  {
   "cell_type": "code",
   "execution_count": 14,
   "metadata": {},
   "outputs": [],
   "source": [
    "np.save('../data/processed/final_negated_entities_pizza.npy',np.array(list(final_negated_entities_pizza)))\n",
    "np.save('../data/processed/final_negated_entities_drink.npy',np.array(list(final_negated_entities_drink)))"
   ]
  },
  {
   "cell_type": "code",
   "execution_count": 21,
   "metadata": {},
   "outputs": [
    {
     "name": "stdout",
     "output_type": "stream",
     "text": [
      "(ORDER i want (PIZZAORDER (NUMBER one ) (SIZE personal size ) pizza without (NOT (NOT_TOPPING bbq pulled pork ) ) ) )\n",
      "['O', 'O', 'B-NUMBER', 'B-SIZE', 'I-SIZE', 'O', 'O', 'B-NOT_TOPPING', 'I-NOT_TOPPING', 'I-NOT_TOPPING']\n"
     ]
    }
   ],
   "source": [
    "number=2023\n",
    "print(negated_topics_train[number])\n",
    "mp=get_entity(negated_topics_train[number],final_negated_entities_pizza)\n",
    "print(mp)"
   ]
  },
  {
   "cell_type": "code",
   "execution_count": 22,
   "metadata": {},
   "outputs": [
    {
     "name": "stderr",
     "output_type": "stream",
     "text": [
      "train pizza: 100%|██████████| 2456446/2456446 [00:24<00:00, 102268.74it/s]\n",
      "train drink: 100%|██████████| 2456446/2456446 [00:23<00:00, 105776.77it/s]\n",
      "dev pizza: 100%|██████████| 348/348 [00:00<00:00, 102042.63it/s]\n",
      "dev drink: 100%|██████████| 348/348 [00:00<00:00, 85920.52it/s]\n",
      "test pizza: 100%|██████████| 1357/1357 [00:00<00:00, 102787.83it/s]\n",
      "test drink: 100%|██████████| 1357/1357 [00:00<00:00, 106432.12it/s]\n"
     ]
    }
   ],
   "source": [
    "words_entities_pizza_train = [get_entity(topic, final_negated_entities_pizza) for topic in \n",
    "                           tqdm(negated_topics_train,desc=\"train pizza\")]\n",
    "words_entities_drink_train = [get_entity(topic, final_negated_entities_drink) for topic in \n",
    "                           tqdm(negated_topics_train,desc=\"train drink\")]\n",
    "\n",
    "words_entities_pizza_dev = [get_entity(topic, final_negated_entities_pizza) for topic in\n",
    "                            tqdm(negated_topics_dev,desc=\"dev pizza\")]\n",
    "\n",
    "words_entities_drink_dev = [get_entity(topic, final_negated_entities_drink) for topic in\n",
    "                            tqdm(negated_topics_dev,desc=\"dev drink\")]\n",
    "\n",
    "words_entities_pizza_test = [get_entity(topic, final_negated_entities_pizza) for topic in\n",
    "                                tqdm(negated_topics_test,desc=\"test pizza\")]\n",
    "\n",
    "words_entities_drink_test = [get_entity(topic, final_negated_entities_drink) for topic in\n",
    "                                tqdm(negated_topics_test,desc=\"test drink\")]"
   ]
  },
  {
   "cell_type": "code",
   "execution_count": 31,
   "metadata": {},
   "outputs": [],
   "source": [
    "np.save('../data/processed/train/words_entities_pizza_train.npy',np.array(words_entities_pizza_train,dtype=object))\n",
    "np.save('../data/processed/train/words_entities_drink_train.npy',np.array(words_entities_drink_train,dtype=object))\n",
    "\n",
    "np.save('../data/processed/dev/words_entities_pizza_dev.npy',np.array(words_entities_pizza_dev,dtype=object))\n",
    "np.save('../data/processed/dev/words_entities_drink_dev.npy',np.array(words_entities_drink_dev,dtype=object))\n",
    "\n",
    "np.save('../data/processed/test/words_entities_pizza_test.npy',np.array(words_entities_pizza_test,dtype=object))\n",
    "np.save('../data/processed/test/words_entities_drink_test.npy',np.array(words_entities_drink_test,dtype=object))\n"
   ]
  },
  {
   "cell_type": "code",
   "execution_count": null,
   "metadata": {},
   "outputs": [],
   "source": []
  }
 ],
 "metadata": {
  "kernelspec": {
   "display_name": "venv",
   "language": "python",
   "name": "python3"
  },
  "language_info": {
   "codemirror_mode": {
    "name": "ipython",
    "version": 3
   },
   "file_extension": ".py",
   "mimetype": "text/x-python",
   "name": "python",
   "nbconvert_exporter": "python",
   "pygments_lexer": "ipython3",
   "version": "3.12.3"
  }
 },
 "nbformat": 4,
 "nbformat_minor": 2
}
