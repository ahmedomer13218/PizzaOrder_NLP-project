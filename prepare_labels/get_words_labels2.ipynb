{
 "cells": [
  {
   "cell_type": "code",
   "execution_count": 1,
   "metadata": {},
   "outputs": [],
   "source": [
    "import json\n",
    "import numpy as np\n",
    "from tqdm import tqdm\n",
    "\n",
    "import sys\n",
    "sys.path.append(\"..\")\n"
   ]
  },
  {
   "cell_type": "code",
   "execution_count": 2,
   "metadata": {},
   "outputs": [
    {
     "name": "stderr",
     "output_type": "stream",
     "text": [
      "2024-12-19 23:19:55.844712: E external/local_xla/xla/stream_executor/cuda/cuda_fft.cc:477] Unable to register cuFFT factory: Attempting to register factory for plugin cuFFT when one has already been registered\n",
      "WARNING: All log messages before absl::InitializeLog() is called are written to STDERR\n",
      "E0000 00:00:1734643195.858000   46394 cuda_dnn.cc:8310] Unable to register cuDNN factory: Attempting to register factory for plugin cuDNN when one has already been registered\n",
      "E0000 00:00:1734643195.861891   46394 cuda_blas.cc:1418] Unable to register cuBLAS factory: Attempting to register factory for plugin cuBLAS when one has already been registered\n",
      "2024-12-19 23:19:55.876813: I tensorflow/core/platform/cpu_feature_guard.cc:210] This TensorFlow binary is optimized to use available CPU instructions in performance-critical operations.\n",
      "To enable the following instructions: AVX2 FMA, in other operations, rebuild TensorFlow with the appropriate compiler flags.\n"
     ]
    }
   ],
   "source": [
    "from helper_functions import extract_text,load_data,apply_negation,get_entity2"
   ]
  },
  {
   "cell_type": "code",
   "execution_count": 3,
   "metadata": {},
   "outputs": [],
   "source": [
    "TRAIN_PATH = '../data/raw/PIZZA_train.json'\n",
    "DEV_PATH = '../data/raw/PIZZA_dev.json'\n",
    "TEST_PATH = '../data/raw/PIZZA_test.json'"
   ]
  },
  {
   "cell_type": "code",
   "execution_count": 4,
   "metadata": {},
   "outputs": [],
   "source": [
    "_, explanations_train, topics_train, decoupled_topics_train=map(np.array, zip(*[extract_text(data,'train') for data in load_data(TRAIN_PATH,'train')]))\n",
    "_, explanations_dev, topics_dev, decoupled_topics_dev=map(np.array, zip(*[extract_text(data,'dev') for data in load_data(DEV_PATH,'dev')]))\n",
    "_, explanations_test, topics_test, decoupled_topics_test=map(np.array, zip(*[extract_text(data,'test') for data in load_data(TEST_PATH,'test')]))"
   ]
  },
  {
   "cell_type": "code",
   "execution_count": 5,
   "metadata": {},
   "outputs": [],
   "source": [
    "entities_dev = set([word[1:]\n",
    "               for t in topics_dev for word in t.split() if word.isupper()])\n",
    "\n",
    "entities_train = set([word[1:]\n",
    "               for t in topics_train for word in t.split() if word.isupper()])\n",
    "\n",
    "full_entities = entities_dev | entities_train\n",
    "\n",
    "enitities_exclude_not = full_entities - {'NOT'}\n",
    "\n",
    "negate_mapping = {}\n",
    "for entity in full_entities:\n",
    "    if entity != 'NOT':\n",
    "        negate_mapping[entity] = \"NOT_\" + entity"
   ]
  },
  {
   "cell_type": "code",
   "execution_count": 6,
   "metadata": {},
   "outputs": [],
   "source": [
    "negated_topics_train = np.vectorize(lambda x: apply_negation(x, negate_mapping,enitities_exclude_not))(topics_train)\n",
    "negated_topics_dev = np.vectorize(lambda x: apply_negation(x, negate_mapping,enitities_exclude_not))(topics_dev)\n",
    "negated_topics_test = np.vectorize(lambda x: apply_negation(x, negate_mapping,enitities_exclude_not))(topics_test)"
   ]
  },
  {
   "cell_type": "code",
   "execution_count": 8,
   "metadata": {},
   "outputs": [],
   "source": [
    "final_negated_entities_pizza=np.load('../data/processed/final_negated_entities_pizza.npy',allow_pickle=True)\n",
    "final_negated_entities_drink=np.load('../data/processed/final_negated_entities_drink.npy',allow_pickle=True)"
   ]
  },
  {
   "cell_type": "code",
   "execution_count": 13,
   "metadata": {},
   "outputs": [],
   "source": [
    "final_negated_entities = set(final_negated_entities_pizza) | set(final_negated_entities_drink)"
   ]
  },
  {
   "cell_type": "code",
   "execution_count": 14,
   "metadata": {},
   "outputs": [
    {
     "name": "stderr",
     "output_type": "stream",
     "text": [
      "train pizza: 100%|██████████| 2456446/2456446 [00:28<00:00, 85405.29it/s] \n",
      "dev pizza: 100%|██████████| 348/348 [00:00<00:00, 93242.48it/s]\n",
      "test pizza: 100%|██████████| 1357/1357 [00:00<00:00, 89745.67it/s]\n"
     ]
    }
   ],
   "source": [
    "words_entities_train = [get_entity2(topic,{'DRINKORDER', 'PIZZAORDER'}, final_negated_entities) for topic in \n",
    "                           tqdm(negated_topics_train,desc=\"train pizza\")]\n",
    "\n",
    "words_entities_dev = [get_entity2(topic,{'DRINKORDER', 'PIZZAORDER'}, final_negated_entities) for topic in\n",
    "                            tqdm(negated_topics_dev,desc=\"dev pizza\")]\n",
    "\n",
    "words_entities_test = [get_entity2(topic,{'DRINKORDER', 'PIZZAORDER'}, final_negated_entities) for topic in\n",
    "                                tqdm(negated_topics_test,desc=\"test pizza\")]\n"
   ]
  },
  {
   "cell_type": "code",
   "execution_count": 15,
   "metadata": {},
   "outputs": [],
   "source": [
    "np.save('../data/processed/train/words_entities_train_second.npy',np.array(words_entities_train,dtype=object))\n",
    "\n",
    "np.save('../data/processed/dev/words_entities_dev_second.npy',np.array(words_entities_dev,dtype=object))\n",
    "\n",
    "np.save('../data/processed/test/words_entities_test_second.npy',np.array(words_entities_test,dtype=object))\n"
   ]
  },
  {
   "cell_type": "code",
   "execution_count": 16,
   "metadata": {},
   "outputs": [
    {
     "data": {
      "text/plain": [
       "['O',\n",
       " 'O',\n",
       " 'O',\n",
       " 'O',\n",
       " 'B-PIZZAORDER',\n",
       " 'I-PIZZAORDER',\n",
       " 'I-PIZZAORDER',\n",
       " 'I-PIZZAORDER',\n",
       " 'I-PIZZAORDER',\n",
       " 'I-PIZZAORDER',\n",
       " 'I-PIZZAORDER',\n",
       " 'I-PIZZAORDER',\n",
       " 'O',\n",
       " 'B-PIZZAORDER',\n",
       " 'I-PIZZAORDER',\n",
       " 'I-PIZZAORDER',\n",
       " 'I-PIZZAORDER',\n",
       " 'I-PIZZAORDER',\n",
       " 'I-PIZZAORDER',\n",
       " 'I-PIZZAORDER',\n",
       " 'I-PIZZAORDER',\n",
       " 'O',\n",
       " 'B-PIZZAORDER',\n",
       " 'I-PIZZAORDER',\n",
       " 'I-PIZZAORDER',\n",
       " 'I-PIZZAORDER',\n",
       " 'I-PIZZAORDER',\n",
       " 'I-PIZZAORDER',\n",
       " 'I-PIZZAORDER']"
      ]
     },
     "execution_count": 16,
     "metadata": {},
     "output_type": "execute_result"
    }
   ],
   "source": [
    "words_entities_dev[0]"
   ]
  },
  {
   "cell_type": "code",
   "execution_count": null,
   "metadata": {},
   "outputs": [],
   "source": []
  }
 ],
 "metadata": {
  "kernelspec": {
   "display_name": "venv",
   "language": "python",
   "name": "python3"
  },
  "language_info": {
   "codemirror_mode": {
    "name": "ipython",
    "version": 3
   },
   "file_extension": ".py",
   "mimetype": "text/x-python",
   "name": "python",
   "nbconvert_exporter": "python",
   "pygments_lexer": "ipython3",
   "version": "3.12.3"
  }
 },
 "nbformat": 4,
 "nbformat_minor": 2
}
