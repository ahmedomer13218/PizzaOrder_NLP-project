{
 "cells": [
  {
   "cell_type": "code",
   "execution_count": 14,
   "metadata": {},
   "outputs": [
    {
     "data": {
      "text/plain": [
       "'(ORDER i need (PIZZAORDER (NUMBER a ) (SIZE medium ) (TOPPING ham ) and (TOPPING pineapple ) pizza) and (DRINKORDER (NUMBER a ) (SIZE small ) (DRINKTYPE iced tea )))'"
      ]
     },
     "execution_count": 14,
     "metadata": {},
     "output_type": "execute_result"
    }
   ],
   "source": [
    "words=['i','need','a','medium','ham','and','pineapple','pizza','and','a','small','iced','tea']\n",
    "predictions1=['O','O','B-NUMBER','B-SIZE','B-TOPPING','O','B-TOPPING','O','O','B-NUMBER','B-SIZE','O','O']\n",
    "predictions2=['O','O','B-NUMBER','B-SIZE','O','O','O','O','O','B-NUMBER','B-SIZE','B-DRINKTYPE','I-DRINKTYPE']\n",
    "predictions3=['O','O','B-PIZZAORDER','I-PIZZAORDER','I-PIZZAORDER','I-PIZZAORDER','I-PIZZAORDER','I-PIZZAORDER','O','B-DRINKORDER','I-DRINKORDER','I-DRINKORDER','I-DRINKORDER']\n",
    "\n",
    "def get_TOP(words, predictions1, predictions2, predictions3):\n",
    "    result = \"(ORDER \"\n",
    "    i = 0\n",
    "    while i < len(words):\n",
    "        if predictions3[i].startswith('B-'):\n",
    "            tag = predictions3[i][2:]\n",
    "            result += f\"({tag} \"\n",
    "            while i < len(words) and (predictions3[i].startswith('B-') or predictions3[i].startswith('I-')):\n",
    "                if predictions1[i].startswith('B-'):\n",
    "                    result += f\"({predictions1[i][2:]} {words[i]} ) \"\n",
    "                elif predictions2[i].startswith('B-'):\n",
    "                    if predictions2[i+1].startswith('I-'):  # Handle multi-word drink types\n",
    "                        result += f\"({predictions2[i][2:]} {words[i]} {words[i+1]} ) \"\n",
    "                        i += 1\n",
    "                    else:\n",
    "                        result += f\"({predictions2[i][2:]} {words[i]} ) \"\n",
    "                else:\n",
    "                    result += f\"{words[i]} \"\n",
    "                i += 1\n",
    "                if i<len(words) and predictions3[i]=='O':\n",
    "                    break\n",
    "            result = result.rstrip() + \") \"\n",
    "        else:\n",
    "            result += f\"{words[i]} \"\n",
    "            i += 1\n",
    "    result = result.rstrip() + \")\"\n",
    "    return result\n",
    "    \n",
    "\n",
    "\n",
    "get_TOP(words, predictions1, predictions2, predictions3)"
   ]
  },
  {
   "cell_type": "code",
   "execution_count": null,
   "metadata": {},
   "outputs": [],
   "source": [
    "input='(ORDER i need (PIZZAORDER (NUMBER a ) (SIZE medium ) (TOPPING ham ) and (TOPPING pineapple ) pizza ) and (DRINKORDER (NUMBER a ) (SIZE small ) (DRINKTYPE iced tea ) ) )'"
   ]
  }
 ],
 "metadata": {
  "kernelspec": {
   "display_name": "venv",
   "language": "python",
   "name": "python3"
  },
  "language_info": {
   "codemirror_mode": {
    "name": "ipython",
    "version": 3
   },
   "file_extension": ".py",
   "mimetype": "text/x-python",
   "name": "python",
   "nbconvert_exporter": "python",
   "pygments_lexer": "ipython3",
   "version": "3.12.3"
  }
 },
 "nbformat": 4,
 "nbformat_minor": 2
}
