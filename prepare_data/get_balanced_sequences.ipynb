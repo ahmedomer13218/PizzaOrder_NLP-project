{
 "cells": [
  {
   "cell_type": "code",
   "execution_count": 8,
   "metadata": {},
   "outputs": [],
   "source": [
    "import numpy as np\n",
    "\n",
    "import sys\n",
    "sys.path.append(\"..\")"
   ]
  },
  {
   "cell_type": "code",
   "execution_count": 6,
   "metadata": {},
   "outputs": [],
   "source": [
    "sequence_indices_pizza_train=np.load(\"../data/processed/train/sequence_indices_pizza_train.npy\",allow_pickle=True)\n",
    "sequence_indices_drink_train=np.load(\"../data/processed/train/sequence_indices_drink_train.npy\",allow_pickle=True)\n",
    "\n",
    "sequence_indices_pizza_dev=np.load(\"../data/processed/dev/sequence_indices_pizza_dev.npy\",allow_pickle=True)\n",
    "sequence_indices_drink_dev=np.load(\"../data/processed/dev/sequence_indices_drink_dev.npy\",allow_pickle=True)\n",
    "\n",
    "sequence_indices_pizza_test=np.load(\"../data/processed/test/sequence_indices_pizza_test.npy\",allow_pickle=True)\n",
    "sequence_indices_drink_test=np.load(\"../data/processed/test/sequence_indices_drink_test.npy\",allow_pickle=True)"
   ]
  },
  {
   "cell_type": "code",
   "execution_count": 7,
   "metadata": {},
   "outputs": [],
   "source": [
    "labels_pizza_train = np.load(\"../data/processed/train/words_entities_pizza_train.npy\",allow_pickle=True)\n",
    "labels_drink_train = np.load(\"../data/processed/train/words_entities_drink_train.npy\",allow_pickle=True)\n",
    "\n",
    "labels_pizza_dev = np.load(\"../data/processed/dev/words_entities_pizza_dev.npy\",allow_pickle=True)\n",
    "labels_drink_dev = np.load(\"../data/processed/dev/words_entities_drink_dev.npy\",allow_pickle=True)\n",
    "\n",
    "labels_pizza_test = np.load(\"../data/processed/test/words_entities_pizza_test.npy\",allow_pickle=True)\n",
    "labels_drink_test = np.load(\"../data/processed/test/words_entities_drink_test.npy\",allow_pickle=True)"
   ]
  },
  {
   "cell_type": "code",
   "execution_count": null,
   "metadata": {},
   "outputs": [],
   "source": []
  }
 ],
 "metadata": {
  "kernelspec": {
   "display_name": "venv",
   "language": "python",
   "name": "python3"
  },
  "language_info": {
   "codemirror_mode": {
    "name": "ipython",
    "version": 3
   },
   "file_extension": ".py",
   "mimetype": "text/x-python",
   "name": "python",
   "nbconvert_exporter": "python",
   "pygments_lexer": "ipython3",
   "version": "3.12.3"
  }
 },
 "nbformat": 4,
 "nbformat_minor": 2
}
